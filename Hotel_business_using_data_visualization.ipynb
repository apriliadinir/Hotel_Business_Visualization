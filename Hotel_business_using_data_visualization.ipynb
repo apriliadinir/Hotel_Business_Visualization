{
  "nbformat": 4,
  "nbformat_minor": 0,
  "metadata": {
    "colab": {
      "name": "Hotel business using data visualization.ipynb",
      "provenance": [],
      "authorship_tag": "ABX9TyP9NUunzLu8TiSMgFB8yikP",
      "include_colab_link": true
    },
    "kernelspec": {
      "name": "python3",
      "display_name": "Python 3"
    },
    "language_info": {
      "name": "python"
    }
  },
  "cells": [
    {
      "cell_type": "markdown",
      "metadata": {
        "id": "view-in-github",
        "colab_type": "text"
      },
      "source": [
        "<a href=\"https://colab.research.google.com/github/jojogelato/Hotel_Business_Visualization/blob/main/Hotel_business_using_data_visualization.ipynb\" target=\"_parent\"><img src=\"https://colab.research.google.com/assets/colab-badge.svg\" alt=\"Open In Colab\"/></a>"
      ]
    },
    {
      "cell_type": "code",
      "execution_count": 1,
      "metadata": {
        "colab": {
          "resources": {
            "http://localhost:8080/nbextensions/google.colab/files.js": {
              "data": "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",
              "ok": true,
              "headers": [
                [
                  "content-type",
                  "application/javascript"
                ]
              ],
              "status": 200,
              "status_text": ""
            }
          },
          "base_uri": "https://localhost:8080/",
          "height": 38
        },
        "id": "-tjPn0bghBxH",
        "outputId": "74bcc678-5947-4ac7-ee87-c887093dcc38"
      },
      "outputs": [
        {
          "output_type": "display_data",
          "data": {
            "text/plain": [
              "<IPython.core.display.HTML object>"
            ],
            "text/html": [
              "\n",
              "     <input type=\"file\" id=\"files-2f2b4aaa-4676-4a04-9543-c581e0af0954\" name=\"files[]\" multiple disabled\n",
              "        style=\"border:none\" />\n",
              "     <output id=\"result-2f2b4aaa-4676-4a04-9543-c581e0af0954\">\n",
              "      Upload widget is only available when the cell has been executed in the\n",
              "      current browser session. Please rerun this cell to enable.\n",
              "      </output>\n",
              "      <script src=\"/nbextensions/google.colab/files.js\"></script> "
            ]
          },
          "metadata": {}
        }
      ],
      "source": [
        "from google.colab import files\n",
        "uploaded = files.upload()\n"
      ]
    },
    {
      "cell_type": "code",
      "source": [
        "import pandas as pd\n",
        "import numpy as np\n",
        "import matplotlib.pyplot as plt\n",
        "import seaborn as sns\n",
        "from scipy import stats\n",
        "from matplotlib import rcParams\n",
        "import warnings\n",
        "warnings.filterwarnings('ignore')"
      ],
      "metadata": {
        "id": "7muvpPpPif5s"
      },
      "execution_count": 2,
      "outputs": []
    },
    {
      "cell_type": "code",
      "source": [
        "# Import dataset\n",
        "df = pd.read_csv('hotel_bookings_data.csv')\n",
        "print(df.shape)\n",
        "df.head()"
      ],
      "metadata": {
        "id": "eCmhX6GxilTT",
        "colab": {
          "base_uri": "https://localhost:8080/",
          "height": 405
        },
        "outputId": "9c53c792-806e-4d4b-c385-6781d297bc22"
      },
      "execution_count": 3,
      "outputs": [
        {
          "output_type": "stream",
          "name": "stdout",
          "text": [
            "(119390, 29)\n"
          ]
        },
        {
          "output_type": "execute_result",
          "data": {
            "text/plain": [
              "          hotel  is_canceled  lead_time  arrival_date_year arrival_date_month  \\\n",
              "0  Resort Hotel            0        342               2017          September   \n",
              "1  Resort Hotel            0        737               2017          September   \n",
              "2  Resort Hotel            0          7               2017          September   \n",
              "3  Resort Hotel            0         13               2017          September   \n",
              "4  Resort Hotel            0         14               2017          September   \n",
              "\n",
              "   arrival_date_week_number  arrival_date_day_of_month  \\\n",
              "0                        27                          1   \n",
              "1                        27                          1   \n",
              "2                        27                          1   \n",
              "3                        27                          1   \n",
              "4                        27                          1   \n",
              "\n",
              "   stays_in_weekend_nights  stays_in_weekdays_nights  adults  ...  \\\n",
              "0                        0                         0       2  ...   \n",
              "1                        0                         0       2  ...   \n",
              "2                        0                         1       1  ...   \n",
              "3                        0                         1       1  ...   \n",
              "4                        0                         2       2  ...   \n",
              "\n",
              "   booking_changes  deposit_type  agent company days_in_waiting_list  \\\n",
              "0                3    No Deposit    NaN     NaN                    0   \n",
              "1                4    No Deposit    NaN     NaN                    0   \n",
              "2                0    No Deposit    NaN     NaN                    0   \n",
              "3                0    No Deposit  304.0     NaN                    0   \n",
              "4                0    No Deposit  240.0     NaN                    0   \n",
              "\n",
              "  customer_type   adr  required_car_parking_spaces  total_of_special_requests  \\\n",
              "0      Personal   0.0                            0                          0   \n",
              "1      Personal   0.0                            0                          0   \n",
              "2      Personal  75.0                            0                          0   \n",
              "3      Personal  75.0                            0                          0   \n",
              "4      Personal  98.0                            0                          1   \n",
              "\n",
              "   reservation_status  \n",
              "0           Check-Out  \n",
              "1           Check-Out  \n",
              "2           Check-Out  \n",
              "3           Check-Out  \n",
              "4           Check-Out  \n",
              "\n",
              "[5 rows x 29 columns]"
            ],
            "text/html": [
              "\n",
              "  <div id=\"df-26177b7b-3e2e-4160-9b9b-c28dfe420ec6\">\n",
              "    <div class=\"colab-df-container\">\n",
              "      <div>\n",
              "<style scoped>\n",
              "    .dataframe tbody tr th:only-of-type {\n",
              "        vertical-align: middle;\n",
              "    }\n",
              "\n",
              "    .dataframe tbody tr th {\n",
              "        vertical-align: top;\n",
              "    }\n",
              "\n",
              "    .dataframe thead th {\n",
              "        text-align: right;\n",
              "    }\n",
              "</style>\n",
              "<table border=\"1\" class=\"dataframe\">\n",
              "  <thead>\n",
              "    <tr style=\"text-align: right;\">\n",
              "      <th></th>\n",
              "      <th>hotel</th>\n",
              "      <th>is_canceled</th>\n",
              "      <th>lead_time</th>\n",
              "      <th>arrival_date_year</th>\n",
              "      <th>arrival_date_month</th>\n",
              "      <th>arrival_date_week_number</th>\n",
              "      <th>arrival_date_day_of_month</th>\n",
              "      <th>stays_in_weekend_nights</th>\n",
              "      <th>stays_in_weekdays_nights</th>\n",
              "      <th>adults</th>\n",
              "      <th>...</th>\n",
              "      <th>booking_changes</th>\n",
              "      <th>deposit_type</th>\n",
              "      <th>agent</th>\n",
              "      <th>company</th>\n",
              "      <th>days_in_waiting_list</th>\n",
              "      <th>customer_type</th>\n",
              "      <th>adr</th>\n",
              "      <th>required_car_parking_spaces</th>\n",
              "      <th>total_of_special_requests</th>\n",
              "      <th>reservation_status</th>\n",
              "    </tr>\n",
              "  </thead>\n",
              "  <tbody>\n",
              "    <tr>\n",
              "      <th>0</th>\n",
              "      <td>Resort Hotel</td>\n",
              "      <td>0</td>\n",
              "      <td>342</td>\n",
              "      <td>2017</td>\n",
              "      <td>September</td>\n",
              "      <td>27</td>\n",
              "      <td>1</td>\n",
              "      <td>0</td>\n",
              "      <td>0</td>\n",
              "      <td>2</td>\n",
              "      <td>...</td>\n",
              "      <td>3</td>\n",
              "      <td>No Deposit</td>\n",
              "      <td>NaN</td>\n",
              "      <td>NaN</td>\n",
              "      <td>0</td>\n",
              "      <td>Personal</td>\n",
              "      <td>0.0</td>\n",
              "      <td>0</td>\n",
              "      <td>0</td>\n",
              "      <td>Check-Out</td>\n",
              "    </tr>\n",
              "    <tr>\n",
              "      <th>1</th>\n",
              "      <td>Resort Hotel</td>\n",
              "      <td>0</td>\n",
              "      <td>737</td>\n",
              "      <td>2017</td>\n",
              "      <td>September</td>\n",
              "      <td>27</td>\n",
              "      <td>1</td>\n",
              "      <td>0</td>\n",
              "      <td>0</td>\n",
              "      <td>2</td>\n",
              "      <td>...</td>\n",
              "      <td>4</td>\n",
              "      <td>No Deposit</td>\n",
              "      <td>NaN</td>\n",
              "      <td>NaN</td>\n",
              "      <td>0</td>\n",
              "      <td>Personal</td>\n",
              "      <td>0.0</td>\n",
              "      <td>0</td>\n",
              "      <td>0</td>\n",
              "      <td>Check-Out</td>\n",
              "    </tr>\n",
              "    <tr>\n",
              "      <th>2</th>\n",
              "      <td>Resort Hotel</td>\n",
              "      <td>0</td>\n",
              "      <td>7</td>\n",
              "      <td>2017</td>\n",
              "      <td>September</td>\n",
              "      <td>27</td>\n",
              "      <td>1</td>\n",
              "      <td>0</td>\n",
              "      <td>1</td>\n",
              "      <td>1</td>\n",
              "      <td>...</td>\n",
              "      <td>0</td>\n",
              "      <td>No Deposit</td>\n",
              "      <td>NaN</td>\n",
              "      <td>NaN</td>\n",
              "      <td>0</td>\n",
              "      <td>Personal</td>\n",
              "      <td>75.0</td>\n",
              "      <td>0</td>\n",
              "      <td>0</td>\n",
              "      <td>Check-Out</td>\n",
              "    </tr>\n",
              "    <tr>\n",
              "      <th>3</th>\n",
              "      <td>Resort Hotel</td>\n",
              "      <td>0</td>\n",
              "      <td>13</td>\n",
              "      <td>2017</td>\n",
              "      <td>September</td>\n",
              "      <td>27</td>\n",
              "      <td>1</td>\n",
              "      <td>0</td>\n",
              "      <td>1</td>\n",
              "      <td>1</td>\n",
              "      <td>...</td>\n",
              "      <td>0</td>\n",
              "      <td>No Deposit</td>\n",
              "      <td>304.0</td>\n",
              "      <td>NaN</td>\n",
              "      <td>0</td>\n",
              "      <td>Personal</td>\n",
              "      <td>75.0</td>\n",
              "      <td>0</td>\n",
              "      <td>0</td>\n",
              "      <td>Check-Out</td>\n",
              "    </tr>\n",
              "    <tr>\n",
              "      <th>4</th>\n",
              "      <td>Resort Hotel</td>\n",
              "      <td>0</td>\n",
              "      <td>14</td>\n",
              "      <td>2017</td>\n",
              "      <td>September</td>\n",
              "      <td>27</td>\n",
              "      <td>1</td>\n",
              "      <td>0</td>\n",
              "      <td>2</td>\n",
              "      <td>2</td>\n",
              "      <td>...</td>\n",
              "      <td>0</td>\n",
              "      <td>No Deposit</td>\n",
              "      <td>240.0</td>\n",
              "      <td>NaN</td>\n",
              "      <td>0</td>\n",
              "      <td>Personal</td>\n",
              "      <td>98.0</td>\n",
              "      <td>0</td>\n",
              "      <td>1</td>\n",
              "      <td>Check-Out</td>\n",
              "    </tr>\n",
              "  </tbody>\n",
              "</table>\n",
              "<p>5 rows × 29 columns</p>\n",
              "</div>\n",
              "      <button class=\"colab-df-convert\" onclick=\"convertToInteractive('df-26177b7b-3e2e-4160-9b9b-c28dfe420ec6')\"\n",
              "              title=\"Convert this dataframe to an interactive table.\"\n",
              "              style=\"display:none;\">\n",
              "        \n",
              "  <svg xmlns=\"http://www.w3.org/2000/svg\" height=\"24px\"viewBox=\"0 0 24 24\"\n",
              "       width=\"24px\">\n",
              "    <path d=\"M0 0h24v24H0V0z\" fill=\"none\"/>\n",
              "    <path d=\"M18.56 5.44l.94 2.06.94-2.06 2.06-.94-2.06-.94-.94-2.06-.94 2.06-2.06.94zm-11 1L8.5 8.5l.94-2.06 2.06-.94-2.06-.94L8.5 2.5l-.94 2.06-2.06.94zm10 10l.94 2.06.94-2.06 2.06-.94-2.06-.94-.94-2.06-.94 2.06-2.06.94z\"/><path d=\"M17.41 7.96l-1.37-1.37c-.4-.4-.92-.59-1.43-.59-.52 0-1.04.2-1.43.59L10.3 9.45l-7.72 7.72c-.78.78-.78 2.05 0 2.83L4 21.41c.39.39.9.59 1.41.59.51 0 1.02-.2 1.41-.59l7.78-7.78 2.81-2.81c.8-.78.8-2.07 0-2.86zM5.41 20L4 18.59l7.72-7.72 1.47 1.35L5.41 20z\"/>\n",
              "  </svg>\n",
              "      </button>\n",
              "      \n",
              "  <style>\n",
              "    .colab-df-container {\n",
              "      display:flex;\n",
              "      flex-wrap:wrap;\n",
              "      gap: 12px;\n",
              "    }\n",
              "\n",
              "    .colab-df-convert {\n",
              "      background-color: #E8F0FE;\n",
              "      border: none;\n",
              "      border-radius: 50%;\n",
              "      cursor: pointer;\n",
              "      display: none;\n",
              "      fill: #1967D2;\n",
              "      height: 32px;\n",
              "      padding: 0 0 0 0;\n",
              "      width: 32px;\n",
              "    }\n",
              "\n",
              "    .colab-df-convert:hover {\n",
              "      background-color: #E2EBFA;\n",
              "      box-shadow: 0px 1px 2px rgba(60, 64, 67, 0.3), 0px 1px 3px 1px rgba(60, 64, 67, 0.15);\n",
              "      fill: #174EA6;\n",
              "    }\n",
              "\n",
              "    [theme=dark] .colab-df-convert {\n",
              "      background-color: #3B4455;\n",
              "      fill: #D2E3FC;\n",
              "    }\n",
              "\n",
              "    [theme=dark] .colab-df-convert:hover {\n",
              "      background-color: #434B5C;\n",
              "      box-shadow: 0px 1px 3px 1px rgba(0, 0, 0, 0.15);\n",
              "      filter: drop-shadow(0px 1px 2px rgba(0, 0, 0, 0.3));\n",
              "      fill: #FFFFFF;\n",
              "    }\n",
              "  </style>\n",
              "\n",
              "      <script>\n",
              "        const buttonEl =\n",
              "          document.querySelector('#df-26177b7b-3e2e-4160-9b9b-c28dfe420ec6 button.colab-df-convert');\n",
              "        buttonEl.style.display =\n",
              "          google.colab.kernel.accessAllowed ? 'block' : 'none';\n",
              "\n",
              "        async function convertToInteractive(key) {\n",
              "          const element = document.querySelector('#df-26177b7b-3e2e-4160-9b9b-c28dfe420ec6');\n",
              "          const dataTable =\n",
              "            await google.colab.kernel.invokeFunction('convertToInteractive',\n",
              "                                                     [key], {});\n",
              "          if (!dataTable) return;\n",
              "\n",
              "          const docLinkHtml = 'Like what you see? Visit the ' +\n",
              "            '<a target=\"_blank\" href=https://colab.research.google.com/notebooks/data_table.ipynb>data table notebook</a>'\n",
              "            + ' to learn more about interactive tables.';\n",
              "          element.innerHTML = '';\n",
              "          dataTable['output_type'] = 'display_data';\n",
              "          await google.colab.output.renderOutput(dataTable, element);\n",
              "          const docLink = document.createElement('div');\n",
              "          docLink.innerHTML = docLinkHtml;\n",
              "          element.appendChild(docLink);\n",
              "        }\n",
              "      </script>\n",
              "    </div>\n",
              "  </div>\n",
              "  "
            ]
          },
          "metadata": {},
          "execution_count": 3
        }
      ]
    },
    {
      "cell_type": "code",
      "source": [
        "#data information\n",
        "df.info()"
      ],
      "metadata": {
        "id": "iHEPYP9RitlY",
        "colab": {
          "base_uri": "https://localhost:8080/"
        },
        "outputId": "4a67c66a-e19b-493c-acad-fab4388f94d8"
      },
      "execution_count": 4,
      "outputs": [
        {
          "output_type": "stream",
          "name": "stdout",
          "text": [
            "<class 'pandas.core.frame.DataFrame'>\n",
            "RangeIndex: 119390 entries, 0 to 119389\n",
            "Data columns (total 29 columns):\n",
            " #   Column                          Non-Null Count   Dtype  \n",
            "---  ------                          --------------   -----  \n",
            " 0   hotel                           119390 non-null  object \n",
            " 1   is_canceled                     119390 non-null  int64  \n",
            " 2   lead_time                       119390 non-null  int64  \n",
            " 3   arrival_date_year               119390 non-null  int64  \n",
            " 4   arrival_date_month              119390 non-null  object \n",
            " 5   arrival_date_week_number        119390 non-null  int64  \n",
            " 6   arrival_date_day_of_month       119390 non-null  int64  \n",
            " 7   stays_in_weekend_nights         119390 non-null  int64  \n",
            " 8   stays_in_weekdays_nights        119390 non-null  int64  \n",
            " 9   adults                          119390 non-null  int64  \n",
            " 10  children                        119386 non-null  float64\n",
            " 11  babies                          119390 non-null  int64  \n",
            " 12  meal                            119390 non-null  object \n",
            " 13  city                            118902 non-null  object \n",
            " 14  market_segment                  119390 non-null  object \n",
            " 15  distribution_channel            119390 non-null  object \n",
            " 16  is_repeated_guest               119390 non-null  int64  \n",
            " 17  previous_cancellations          119390 non-null  int64  \n",
            " 18  previous_bookings_not_canceled  119390 non-null  int64  \n",
            " 19  booking_changes                 119390 non-null  int64  \n",
            " 20  deposit_type                    119390 non-null  object \n",
            " 21  agent                           103050 non-null  float64\n",
            " 22  company                         6797 non-null    float64\n",
            " 23  days_in_waiting_list            119390 non-null  int64  \n",
            " 24  customer_type                   119390 non-null  object \n",
            " 25  adr                             119390 non-null  float64\n",
            " 26  required_car_parking_spaces     119390 non-null  int64  \n",
            " 27  total_of_special_requests       119390 non-null  int64  \n",
            " 28  reservation_status              119390 non-null  object \n",
            "dtypes: float64(4), int64(16), object(9)\n",
            "memory usage: 26.4+ MB\n"
          ]
        }
      ]
    },
    {
      "cell_type": "markdown",
      "source": [
        "children, agent, company data type shall be integer"
      ],
      "metadata": {
        "id": "kXzAlbDskcww"
      }
    },
    {
      "cell_type": "markdown",
      "source": [
        "# Data Preprocessing"
      ],
      "metadata": {
        "id": "cwNXD03GWX1o"
      }
    },
    {
      "cell_type": "markdown",
      "source": [
        "**Data Preprocessing**"
      ],
      "metadata": {
        "id": "xMJAbEf-jFRy"
      }
    },
    {
      "cell_type": "code",
      "source": [
        "# check null value\n",
        "df.isna().sum()"
      ],
      "metadata": {
        "id": "7_KzEzMBjHKq",
        "colab": {
          "base_uri": "https://localhost:8080/"
        },
        "outputId": "76fcc3a2-eddd-4fef-d5d6-4425638cb249"
      },
      "execution_count": 5,
      "outputs": [
        {
          "output_type": "execute_result",
          "data": {
            "text/plain": [
              "hotel                                  0\n",
              "is_canceled                            0\n",
              "lead_time                              0\n",
              "arrival_date_year                      0\n",
              "arrival_date_month                     0\n",
              "arrival_date_week_number               0\n",
              "arrival_date_day_of_month              0\n",
              "stays_in_weekend_nights                0\n",
              "stays_in_weekdays_nights               0\n",
              "adults                                 0\n",
              "children                               4\n",
              "babies                                 0\n",
              "meal                                   0\n",
              "city                                 488\n",
              "market_segment                         0\n",
              "distribution_channel                   0\n",
              "is_repeated_guest                      0\n",
              "previous_cancellations                 0\n",
              "previous_bookings_not_canceled         0\n",
              "booking_changes                        0\n",
              "deposit_type                           0\n",
              "agent                              16340\n",
              "company                           112593\n",
              "days_in_waiting_list                   0\n",
              "customer_type                          0\n",
              "adr                                    0\n",
              "required_car_parking_spaces            0\n",
              "total_of_special_requests              0\n",
              "reservation_status                     0\n",
              "dtype: int64"
            ]
          },
          "metadata": {},
          "execution_count": 5
        }
      ]
    },
    {
      "cell_type": "code",
      "source": [
        "#understanding the data \n",
        "df['children'].value_counts()"
      ],
      "metadata": {
        "id": "zR6a6ILkjI9h",
        "colab": {
          "base_uri": "https://localhost:8080/"
        },
        "outputId": "8fe23a16-2dbc-48e7-b3ba-57b147a967b9"
      },
      "execution_count": 6,
      "outputs": [
        {
          "output_type": "execute_result",
          "data": {
            "text/plain": [
              "0.0     110796\n",
              "1.0       4861\n",
              "2.0       3652\n",
              "3.0         76\n",
              "10.0         1\n",
              "Name: children, dtype: int64"
            ]
          },
          "metadata": {},
          "execution_count": 6
        }
      ]
    },
    {
      "cell_type": "code",
      "source": [
        "#understanding the data\n",
        "df['city'].value_counts()"
      ],
      "metadata": {
        "id": "CTy6vH1wjMKz",
        "colab": {
          "base_uri": "https://localhost:8080/"
        },
        "outputId": "d73e1496-e551-416f-8f67-ef2ebefb1e6c"
      },
      "execution_count": 7,
      "outputs": [
        {
          "output_type": "execute_result",
          "data": {
            "text/plain": [
              "Kota Denpasar              48590\n",
              "Kabupaten Bangka           12129\n",
              "Kota Yogyakarta            10415\n",
              "Kota Batu                   8568\n",
              "Kabupaten Bandung           7287\n",
              "                           ...  \n",
              "Kabupaten Malang               1\n",
              "Kabupaten Bekasi               1\n",
              "Kabupaten Barito Kuala         1\n",
              "Kota Palembang                 1\n",
              "Kabupaten Maluku Tengah        1\n",
              "Name: city, Length: 177, dtype: int64"
            ]
          },
          "metadata": {},
          "execution_count": 7
        }
      ]
    },
    {
      "cell_type": "code",
      "source": [
        "#understanding the data\n",
        "df['company'].value_counts()"
      ],
      "metadata": {
        "id": "ybCzNnRZjS1S",
        "colab": {
          "base_uri": "https://localhost:8080/"
        },
        "outputId": "c87f8591-01f6-4443-c89d-193858dce7eb"
      },
      "execution_count": 8,
      "outputs": [
        {
          "output_type": "execute_result",
          "data": {
            "text/plain": [
              "40.0     927\n",
              "223.0    784\n",
              "67.0     267\n",
              "45.0     250\n",
              "153.0    215\n",
              "        ... \n",
              "104.0      1\n",
              "531.0      1\n",
              "160.0      1\n",
              "413.0      1\n",
              "386.0      1\n",
              "Name: company, Length: 352, dtype: int64"
            ]
          },
          "metadata": {},
          "execution_count": 8
        }
      ]
    },
    {
      "cell_type": "code",
      "source": [
        "## Handling null values\n",
        "df['children'] = df['children'].fillna(0)\n",
        "df['city'] = df['city'].fillna('Unknown')\n",
        "df['agent'] = df['agent'].fillna(0)\n",
        "df['company'] = df['company'].fillna(0)\n",
        "# Check null values again\n",
        "df.isna().sum()"
      ],
      "metadata": {
        "id": "Avy9gR0HjX_N",
        "colab": {
          "base_uri": "https://localhost:8080/"
        },
        "outputId": "3a1cbea0-5df9-466a-856c-56231a7c3900"
      },
      "execution_count": 9,
      "outputs": [
        {
          "output_type": "execute_result",
          "data": {
            "text/plain": [
              "hotel                             0\n",
              "is_canceled                       0\n",
              "lead_time                         0\n",
              "arrival_date_year                 0\n",
              "arrival_date_month                0\n",
              "arrival_date_week_number          0\n",
              "arrival_date_day_of_month         0\n",
              "stays_in_weekend_nights           0\n",
              "stays_in_weekdays_nights          0\n",
              "adults                            0\n",
              "children                          0\n",
              "babies                            0\n",
              "meal                              0\n",
              "city                              0\n",
              "market_segment                    0\n",
              "distribution_channel              0\n",
              "is_repeated_guest                 0\n",
              "previous_cancellations            0\n",
              "previous_bookings_not_canceled    0\n",
              "booking_changes                   0\n",
              "deposit_type                      0\n",
              "agent                             0\n",
              "company                           0\n",
              "days_in_waiting_list              0\n",
              "customer_type                     0\n",
              "adr                               0\n",
              "required_car_parking_spaces       0\n",
              "total_of_special_requests         0\n",
              "reservation_status                0\n",
              "dtype: int64"
            ]
          },
          "metadata": {},
          "execution_count": 9
        }
      ]
    },
    {
      "cell_type": "code",
      "source": [
        "df.isna().sum()"
      ],
      "metadata": {
        "id": "4kxlJVhfjoWY",
        "colab": {
          "base_uri": "https://localhost:8080/"
        },
        "outputId": "d0dc9884-98c6-41dc-b119-35f67d8ca8d5"
      },
      "execution_count": 10,
      "outputs": [
        {
          "output_type": "execute_result",
          "data": {
            "text/plain": [
              "hotel                             0\n",
              "is_canceled                       0\n",
              "lead_time                         0\n",
              "arrival_date_year                 0\n",
              "arrival_date_month                0\n",
              "arrival_date_week_number          0\n",
              "arrival_date_day_of_month         0\n",
              "stays_in_weekend_nights           0\n",
              "stays_in_weekdays_nights          0\n",
              "adults                            0\n",
              "children                          0\n",
              "babies                            0\n",
              "meal                              0\n",
              "city                              0\n",
              "market_segment                    0\n",
              "distribution_channel              0\n",
              "is_repeated_guest                 0\n",
              "previous_cancellations            0\n",
              "previous_bookings_not_canceled    0\n",
              "booking_changes                   0\n",
              "deposit_type                      0\n",
              "agent                             0\n",
              "company                           0\n",
              "days_in_waiting_list              0\n",
              "customer_type                     0\n",
              "adr                               0\n",
              "required_car_parking_spaces       0\n",
              "total_of_special_requests         0\n",
              "reservation_status                0\n",
              "dtype: int64"
            ]
          },
          "metadata": {},
          "execution_count": 10
        }
      ]
    },
    {
      "cell_type": "code",
      "source": [
        "# Fix the data type\n",
        "df['children'] = df['children'].astype('int64')\n",
        "df['agent'] = df['agent'].astype('int64')\n",
        "df['company'] = df['company'].astype('int64')"
      ],
      "metadata": {
        "id": "G9PK1ixdkILR"
      },
      "execution_count": 11,
      "outputs": []
    },
    {
      "cell_type": "code",
      "source": [
        "df['meal'].value_counts()"
      ],
      "metadata": {
        "id": "2DfOHvZXlmPb",
        "colab": {
          "base_uri": "https://localhost:8080/"
        },
        "outputId": "0ef0306d-c966-4a5d-d303-81a5615cebe3"
      },
      "execution_count": 12,
      "outputs": [
        {
          "output_type": "execute_result",
          "data": {
            "text/plain": [
              "Breakfast     92310\n",
              "Dinner        14463\n",
              "No Meal       10650\n",
              "Undefined      1169\n",
              "Full Board      798\n",
              "Name: meal, dtype: int64"
            ]
          },
          "metadata": {},
          "execution_count": 12
        }
      ]
    },
    {
      "cell_type": "code",
      "source": [
        "df['market_segment'].value_counts()"
      ],
      "metadata": {
        "id": "kFnwoKlWn-hZ",
        "colab": {
          "base_uri": "https://localhost:8080/"
        },
        "outputId": "fee3677a-81bf-4597-ee8a-60aaeb861f04"
      },
      "execution_count": 13,
      "outputs": [
        {
          "output_type": "execute_result",
          "data": {
            "text/plain": [
              "Online TA        56477\n",
              "Offline TA/TO    24219\n",
              "Groups           19811\n",
              "Direct           12606\n",
              "Corporate         5295\n",
              "Complementary      743\n",
              "Aviation           237\n",
              "Undefined            2\n",
              "Name: market_segment, dtype: int64"
            ]
          },
          "metadata": {},
          "execution_count": 13
        }
      ]
    },
    {
      "cell_type": "code",
      "source": [
        "df['distribution_channel'].value_counts()"
      ],
      "metadata": {
        "id": "rEeFpUjKoREP",
        "colab": {
          "base_uri": "https://localhost:8080/"
        },
        "outputId": "904a7fe6-b2f1-419c-f99b-ceb785ca4da1"
      },
      "execution_count": 14,
      "outputs": [
        {
          "output_type": "execute_result",
          "data": {
            "text/plain": [
              "TA/TO        97870\n",
              "Direct       14645\n",
              "Corporate     6677\n",
              "GDS            193\n",
              "Undefined        5\n",
              "Name: distribution_channel, dtype: int64"
            ]
          },
          "metadata": {},
          "execution_count": 14
        }
      ]
    },
    {
      "cell_type": "code",
      "source": [
        "#fix incorrect value \n",
        "# replace 'Undified' in meal, market_segment, and distribution channel\n",
        "df['meal'] = df['meal'].replace(['Undefined'], 'No meal')\n",
        "df['meal'].value_counts()"
      ],
      "metadata": {
        "id": "nMSz3NWsoy36",
        "colab": {
          "base_uri": "https://localhost:8080/"
        },
        "outputId": "b7a97155-0960-46a0-f022-c371ee8d8935"
      },
      "execution_count": 15,
      "outputs": [
        {
          "output_type": "execute_result",
          "data": {
            "text/plain": [
              "Breakfast     92310\n",
              "Dinner        14463\n",
              "No Meal       10650\n",
              "No meal        1169\n",
              "Full Board      798\n",
              "Name: meal, dtype: int64"
            ]
          },
          "metadata": {},
          "execution_count": 15
        }
      ]
    },
    {
      "cell_type": "code",
      "source": [
        "df['guest'] = df['adults'] + df['children'] + df['babies']\n",
        "df.describe()"
      ],
      "metadata": {
        "id": "_YEWhNVIpXPi",
        "colab": {
          "base_uri": "https://localhost:8080/",
          "height": 394
        },
        "outputId": "e9cd206d-2172-4906-b392-cfd5efc9f05a"
      },
      "execution_count": 16,
      "outputs": [
        {
          "output_type": "execute_result",
          "data": {
            "text/plain": [
              "         is_canceled      lead_time  arrival_date_year  \\\n",
              "count  119390.000000  119390.000000      119390.000000   \n",
              "mean        0.370416     104.011416        2018.156554   \n",
              "std         0.482918     106.863097           0.707476   \n",
              "min         0.000000       0.000000        2017.000000   \n",
              "25%         0.000000      18.000000        2018.000000   \n",
              "50%         0.000000      69.000000        2018.000000   \n",
              "75%         1.000000     160.000000        2019.000000   \n",
              "max         1.000000     737.000000        2019.000000   \n",
              "\n",
              "       arrival_date_week_number  arrival_date_day_of_month  \\\n",
              "count             119390.000000              119390.000000   \n",
              "mean                  27.165173                  15.798241   \n",
              "std                   13.605138                   8.780829   \n",
              "min                    1.000000                   1.000000   \n",
              "25%                   16.000000                   8.000000   \n",
              "50%                   28.000000                  16.000000   \n",
              "75%                   38.000000                  23.000000   \n",
              "max                   53.000000                  31.000000   \n",
              "\n",
              "       stays_in_weekend_nights  stays_in_weekdays_nights         adults  \\\n",
              "count            119390.000000             119390.000000  119390.000000   \n",
              "mean                  0.927599                  2.500302       1.856403   \n",
              "std                   0.998613                  1.908286       0.579261   \n",
              "min                   0.000000                  0.000000       0.000000   \n",
              "25%                   0.000000                  1.000000       2.000000   \n",
              "50%                   1.000000                  2.000000       2.000000   \n",
              "75%                   2.000000                  3.000000       2.000000   \n",
              "max                  19.000000                 50.000000      55.000000   \n",
              "\n",
              "            children         babies  ...  previous_cancellations  \\\n",
              "count  119390.000000  119390.000000  ...           119390.000000   \n",
              "mean        0.103886       0.007949  ...                0.087118   \n",
              "std         0.398555       0.097436  ...                0.844336   \n",
              "min         0.000000       0.000000  ...                0.000000   \n",
              "25%         0.000000       0.000000  ...                0.000000   \n",
              "50%         0.000000       0.000000  ...                0.000000   \n",
              "75%         0.000000       0.000000  ...                0.000000   \n",
              "max        10.000000      10.000000  ...               26.000000   \n",
              "\n",
              "       previous_bookings_not_canceled  booking_changes          agent  \\\n",
              "count                   119390.000000    119390.000000  119390.000000   \n",
              "mean                         0.137097         0.221124      74.828319   \n",
              "std                          1.497437         0.652306     107.141953   \n",
              "min                          0.000000         0.000000       0.000000   \n",
              "25%                          0.000000         0.000000       7.000000   \n",
              "50%                          0.000000         0.000000       9.000000   \n",
              "75%                          0.000000         0.000000     152.000000   \n",
              "max                         72.000000        21.000000     535.000000   \n",
              "\n",
              "             company  days_in_waiting_list            adr  \\\n",
              "count  119390.000000         119390.000000  119390.000000   \n",
              "mean       10.775157              2.321149     101.831122   \n",
              "std        53.943884             17.594721      50.535790   \n",
              "min         0.000000              0.000000      -6.380000   \n",
              "25%         0.000000              0.000000      69.290000   \n",
              "50%         0.000000              0.000000      94.575000   \n",
              "75%         0.000000              0.000000     126.000000   \n",
              "max       543.000000            391.000000    5400.000000   \n",
              "\n",
              "       required_car_parking_spaces  total_of_special_requests          guest  \n",
              "count                119390.000000              119390.000000  119390.000000  \n",
              "mean                      0.062518                   0.571363       1.968239  \n",
              "std                       0.245291                   0.792798       0.722394  \n",
              "min                       0.000000                   0.000000       0.000000  \n",
              "25%                       0.000000                   0.000000       2.000000  \n",
              "50%                       0.000000                   0.000000       2.000000  \n",
              "75%                       0.000000                   1.000000       2.000000  \n",
              "max                       8.000000                   5.000000      55.000000  \n",
              "\n",
              "[8 rows x 21 columns]"
            ],
            "text/html": [
              "\n",
              "  <div id=\"df-7ac521b6-1111-4de0-8368-2c3a5ba44278\">\n",
              "    <div class=\"colab-df-container\">\n",
              "      <div>\n",
              "<style scoped>\n",
              "    .dataframe tbody tr th:only-of-type {\n",
              "        vertical-align: middle;\n",
              "    }\n",
              "\n",
              "    .dataframe tbody tr th {\n",
              "        vertical-align: top;\n",
              "    }\n",
              "\n",
              "    .dataframe thead th {\n",
              "        text-align: right;\n",
              "    }\n",
              "</style>\n",
              "<table border=\"1\" class=\"dataframe\">\n",
              "  <thead>\n",
              "    <tr style=\"text-align: right;\">\n",
              "      <th></th>\n",
              "      <th>is_canceled</th>\n",
              "      <th>lead_time</th>\n",
              "      <th>arrival_date_year</th>\n",
              "      <th>arrival_date_week_number</th>\n",
              "      <th>arrival_date_day_of_month</th>\n",
              "      <th>stays_in_weekend_nights</th>\n",
              "      <th>stays_in_weekdays_nights</th>\n",
              "      <th>adults</th>\n",
              "      <th>children</th>\n",
              "      <th>babies</th>\n",
              "      <th>...</th>\n",
              "      <th>previous_cancellations</th>\n",
              "      <th>previous_bookings_not_canceled</th>\n",
              "      <th>booking_changes</th>\n",
              "      <th>agent</th>\n",
              "      <th>company</th>\n",
              "      <th>days_in_waiting_list</th>\n",
              "      <th>adr</th>\n",
              "      <th>required_car_parking_spaces</th>\n",
              "      <th>total_of_special_requests</th>\n",
              "      <th>guest</th>\n",
              "    </tr>\n",
              "  </thead>\n",
              "  <tbody>\n",
              "    <tr>\n",
              "      <th>count</th>\n",
              "      <td>119390.000000</td>\n",
              "      <td>119390.000000</td>\n",
              "      <td>119390.000000</td>\n",
              "      <td>119390.000000</td>\n",
              "      <td>119390.000000</td>\n",
              "      <td>119390.000000</td>\n",
              "      <td>119390.000000</td>\n",
              "      <td>119390.000000</td>\n",
              "      <td>119390.000000</td>\n",
              "      <td>119390.000000</td>\n",
              "      <td>...</td>\n",
              "      <td>119390.000000</td>\n",
              "      <td>119390.000000</td>\n",
              "      <td>119390.000000</td>\n",
              "      <td>119390.000000</td>\n",
              "      <td>119390.000000</td>\n",
              "      <td>119390.000000</td>\n",
              "      <td>119390.000000</td>\n",
              "      <td>119390.000000</td>\n",
              "      <td>119390.000000</td>\n",
              "      <td>119390.000000</td>\n",
              "    </tr>\n",
              "    <tr>\n",
              "      <th>mean</th>\n",
              "      <td>0.370416</td>\n",
              "      <td>104.011416</td>\n",
              "      <td>2018.156554</td>\n",
              "      <td>27.165173</td>\n",
              "      <td>15.798241</td>\n",
              "      <td>0.927599</td>\n",
              "      <td>2.500302</td>\n",
              "      <td>1.856403</td>\n",
              "      <td>0.103886</td>\n",
              "      <td>0.007949</td>\n",
              "      <td>...</td>\n",
              "      <td>0.087118</td>\n",
              "      <td>0.137097</td>\n",
              "      <td>0.221124</td>\n",
              "      <td>74.828319</td>\n",
              "      <td>10.775157</td>\n",
              "      <td>2.321149</td>\n",
              "      <td>101.831122</td>\n",
              "      <td>0.062518</td>\n",
              "      <td>0.571363</td>\n",
              "      <td>1.968239</td>\n",
              "    </tr>\n",
              "    <tr>\n",
              "      <th>std</th>\n",
              "      <td>0.482918</td>\n",
              "      <td>106.863097</td>\n",
              "      <td>0.707476</td>\n",
              "      <td>13.605138</td>\n",
              "      <td>8.780829</td>\n",
              "      <td>0.998613</td>\n",
              "      <td>1.908286</td>\n",
              "      <td>0.579261</td>\n",
              "      <td>0.398555</td>\n",
              "      <td>0.097436</td>\n",
              "      <td>...</td>\n",
              "      <td>0.844336</td>\n",
              "      <td>1.497437</td>\n",
              "      <td>0.652306</td>\n",
              "      <td>107.141953</td>\n",
              "      <td>53.943884</td>\n",
              "      <td>17.594721</td>\n",
              "      <td>50.535790</td>\n",
              "      <td>0.245291</td>\n",
              "      <td>0.792798</td>\n",
              "      <td>0.722394</td>\n",
              "    </tr>\n",
              "    <tr>\n",
              "      <th>min</th>\n",
              "      <td>0.000000</td>\n",
              "      <td>0.000000</td>\n",
              "      <td>2017.000000</td>\n",
              "      <td>1.000000</td>\n",
              "      <td>1.000000</td>\n",
              "      <td>0.000000</td>\n",
              "      <td>0.000000</td>\n",
              "      <td>0.000000</td>\n",
              "      <td>0.000000</td>\n",
              "      <td>0.000000</td>\n",
              "      <td>...</td>\n",
              "      <td>0.000000</td>\n",
              "      <td>0.000000</td>\n",
              "      <td>0.000000</td>\n",
              "      <td>0.000000</td>\n",
              "      <td>0.000000</td>\n",
              "      <td>0.000000</td>\n",
              "      <td>-6.380000</td>\n",
              "      <td>0.000000</td>\n",
              "      <td>0.000000</td>\n",
              "      <td>0.000000</td>\n",
              "    </tr>\n",
              "    <tr>\n",
              "      <th>25%</th>\n",
              "      <td>0.000000</td>\n",
              "      <td>18.000000</td>\n",
              "      <td>2018.000000</td>\n",
              "      <td>16.000000</td>\n",
              "      <td>8.000000</td>\n",
              "      <td>0.000000</td>\n",
              "      <td>1.000000</td>\n",
              "      <td>2.000000</td>\n",
              "      <td>0.000000</td>\n",
              "      <td>0.000000</td>\n",
              "      <td>...</td>\n",
              "      <td>0.000000</td>\n",
              "      <td>0.000000</td>\n",
              "      <td>0.000000</td>\n",
              "      <td>7.000000</td>\n",
              "      <td>0.000000</td>\n",
              "      <td>0.000000</td>\n",
              "      <td>69.290000</td>\n",
              "      <td>0.000000</td>\n",
              "      <td>0.000000</td>\n",
              "      <td>2.000000</td>\n",
              "    </tr>\n",
              "    <tr>\n",
              "      <th>50%</th>\n",
              "      <td>0.000000</td>\n",
              "      <td>69.000000</td>\n",
              "      <td>2018.000000</td>\n",
              "      <td>28.000000</td>\n",
              "      <td>16.000000</td>\n",
              "      <td>1.000000</td>\n",
              "      <td>2.000000</td>\n",
              "      <td>2.000000</td>\n",
              "      <td>0.000000</td>\n",
              "      <td>0.000000</td>\n",
              "      <td>...</td>\n",
              "      <td>0.000000</td>\n",
              "      <td>0.000000</td>\n",
              "      <td>0.000000</td>\n",
              "      <td>9.000000</td>\n",
              "      <td>0.000000</td>\n",
              "      <td>0.000000</td>\n",
              "      <td>94.575000</td>\n",
              "      <td>0.000000</td>\n",
              "      <td>0.000000</td>\n",
              "      <td>2.000000</td>\n",
              "    </tr>\n",
              "    <tr>\n",
              "      <th>75%</th>\n",
              "      <td>1.000000</td>\n",
              "      <td>160.000000</td>\n",
              "      <td>2019.000000</td>\n",
              "      <td>38.000000</td>\n",
              "      <td>23.000000</td>\n",
              "      <td>2.000000</td>\n",
              "      <td>3.000000</td>\n",
              "      <td>2.000000</td>\n",
              "      <td>0.000000</td>\n",
              "      <td>0.000000</td>\n",
              "      <td>...</td>\n",
              "      <td>0.000000</td>\n",
              "      <td>0.000000</td>\n",
              "      <td>0.000000</td>\n",
              "      <td>152.000000</td>\n",
              "      <td>0.000000</td>\n",
              "      <td>0.000000</td>\n",
              "      <td>126.000000</td>\n",
              "      <td>0.000000</td>\n",
              "      <td>1.000000</td>\n",
              "      <td>2.000000</td>\n",
              "    </tr>\n",
              "    <tr>\n",
              "      <th>max</th>\n",
              "      <td>1.000000</td>\n",
              "      <td>737.000000</td>\n",
              "      <td>2019.000000</td>\n",
              "      <td>53.000000</td>\n",
              "      <td>31.000000</td>\n",
              "      <td>19.000000</td>\n",
              "      <td>50.000000</td>\n",
              "      <td>55.000000</td>\n",
              "      <td>10.000000</td>\n",
              "      <td>10.000000</td>\n",
              "      <td>...</td>\n",
              "      <td>26.000000</td>\n",
              "      <td>72.000000</td>\n",
              "      <td>21.000000</td>\n",
              "      <td>535.000000</td>\n",
              "      <td>543.000000</td>\n",
              "      <td>391.000000</td>\n",
              "      <td>5400.000000</td>\n",
              "      <td>8.000000</td>\n",
              "      <td>5.000000</td>\n",
              "      <td>55.000000</td>\n",
              "    </tr>\n",
              "  </tbody>\n",
              "</table>\n",
              "<p>8 rows × 21 columns</p>\n",
              "</div>\n",
              "      <button class=\"colab-df-convert\" onclick=\"convertToInteractive('df-7ac521b6-1111-4de0-8368-2c3a5ba44278')\"\n",
              "              title=\"Convert this dataframe to an interactive table.\"\n",
              "              style=\"display:none;\">\n",
              "        \n",
              "  <svg xmlns=\"http://www.w3.org/2000/svg\" height=\"24px\"viewBox=\"0 0 24 24\"\n",
              "       width=\"24px\">\n",
              "    <path d=\"M0 0h24v24H0V0z\" fill=\"none\"/>\n",
              "    <path d=\"M18.56 5.44l.94 2.06.94-2.06 2.06-.94-2.06-.94-.94-2.06-.94 2.06-2.06.94zm-11 1L8.5 8.5l.94-2.06 2.06-.94-2.06-.94L8.5 2.5l-.94 2.06-2.06.94zm10 10l.94 2.06.94-2.06 2.06-.94-2.06-.94-.94-2.06-.94 2.06-2.06.94z\"/><path d=\"M17.41 7.96l-1.37-1.37c-.4-.4-.92-.59-1.43-.59-.52 0-1.04.2-1.43.59L10.3 9.45l-7.72 7.72c-.78.78-.78 2.05 0 2.83L4 21.41c.39.39.9.59 1.41.59.51 0 1.02-.2 1.41-.59l7.78-7.78 2.81-2.81c.8-.78.8-2.07 0-2.86zM5.41 20L4 18.59l7.72-7.72 1.47 1.35L5.41 20z\"/>\n",
              "  </svg>\n",
              "      </button>\n",
              "      \n",
              "  <style>\n",
              "    .colab-df-container {\n",
              "      display:flex;\n",
              "      flex-wrap:wrap;\n",
              "      gap: 12px;\n",
              "    }\n",
              "\n",
              "    .colab-df-convert {\n",
              "      background-color: #E8F0FE;\n",
              "      border: none;\n",
              "      border-radius: 50%;\n",
              "      cursor: pointer;\n",
              "      display: none;\n",
              "      fill: #1967D2;\n",
              "      height: 32px;\n",
              "      padding: 0 0 0 0;\n",
              "      width: 32px;\n",
              "    }\n",
              "\n",
              "    .colab-df-convert:hover {\n",
              "      background-color: #E2EBFA;\n",
              "      box-shadow: 0px 1px 2px rgba(60, 64, 67, 0.3), 0px 1px 3px 1px rgba(60, 64, 67, 0.15);\n",
              "      fill: #174EA6;\n",
              "    }\n",
              "\n",
              "    [theme=dark] .colab-df-convert {\n",
              "      background-color: #3B4455;\n",
              "      fill: #D2E3FC;\n",
              "    }\n",
              "\n",
              "    [theme=dark] .colab-df-convert:hover {\n",
              "      background-color: #434B5C;\n",
              "      box-shadow: 0px 1px 3px 1px rgba(0, 0, 0, 0.15);\n",
              "      filter: drop-shadow(0px 1px 2px rgba(0, 0, 0, 0.3));\n",
              "      fill: #FFFFFF;\n",
              "    }\n",
              "  </style>\n",
              "\n",
              "      <script>\n",
              "        const buttonEl =\n",
              "          document.querySelector('#df-7ac521b6-1111-4de0-8368-2c3a5ba44278 button.colab-df-convert');\n",
              "        buttonEl.style.display =\n",
              "          google.colab.kernel.accessAllowed ? 'block' : 'none';\n",
              "\n",
              "        async function convertToInteractive(key) {\n",
              "          const element = document.querySelector('#df-7ac521b6-1111-4de0-8368-2c3a5ba44278');\n",
              "          const dataTable =\n",
              "            await google.colab.kernel.invokeFunction('convertToInteractive',\n",
              "                                                     [key], {});\n",
              "          if (!dataTable) return;\n",
              "\n",
              "          const docLinkHtml = 'Like what you see? Visit the ' +\n",
              "            '<a target=\"_blank\" href=https://colab.research.google.com/notebooks/data_table.ipynb>data table notebook</a>'\n",
              "            + ' to learn more about interactive tables.';\n",
              "          element.innerHTML = '';\n",
              "          dataTable['output_type'] = 'display_data';\n",
              "          await google.colab.output.renderOutput(dataTable, element);\n",
              "          const docLink = document.createElement('div');\n",
              "          docLink.innerHTML = docLinkHtml;\n",
              "          element.appendChild(docLink);\n",
              "        }\n",
              "      </script>\n",
              "    </div>\n",
              "  </div>\n",
              "  "
            ]
          },
          "metadata": {},
          "execution_count": 16
        }
      ]
    },
    {
      "cell_type": "code",
      "source": [
        "#menghapus data yang bernilai 0 guest\n",
        "df_preprocessing = df[df['guest']>0].copy()\n",
        "df_preprocessing.shape"
      ],
      "metadata": {
        "id": "X2FC-Q5RtMTs",
        "colab": {
          "base_uri": "https://localhost:8080/"
        },
        "outputId": "1b42755e-91ab-4152-dc84-3f990fb39464"
      },
      "execution_count": 17,
      "outputs": [
        {
          "output_type": "execute_result",
          "data": {
            "text/plain": [
              "(119210, 30)"
            ]
          },
          "metadata": {},
          "execution_count": 17
        }
      ]
    },
    {
      "cell_type": "code",
      "source": [
        "# membandingkan data sebelum preprocessing \n",
        "\n",
        "print('before data preprocessing: ',df.shape[0])\n",
        "print('after data preprocessing: ', df_preprocessing.shape[0])"
      ],
      "metadata": {
        "colab": {
          "base_uri": "https://localhost:8080/"
        },
        "id": "gYSLV-4szSMF",
        "outputId": "dcb899c0-d830-40e4-ed89-e904a69682f2"
      },
      "execution_count": 18,
      "outputs": [
        {
          "output_type": "stream",
          "name": "stdout",
          "text": [
            "before data preprocessing:  119390\n",
            "after data preprocessing:  119210\n"
          ]
        }
      ]
    },
    {
      "cell_type": "code",
      "source": [
        "df['reservation_status'].unique()"
      ],
      "metadata": {
        "id": "RGaf0tDNt-yf",
        "colab": {
          "base_uri": "https://localhost:8080/"
        },
        "outputId": "6b897b0a-b308-4af5-a932-e3a47561e357"
      },
      "execution_count": 19,
      "outputs": [
        {
          "output_type": "execute_result",
          "data": {
            "text/plain": [
              "array(['Check-Out', 'Canceled', 'No-Show'], dtype=object)"
            ]
          },
          "metadata": {},
          "execution_count": 19
        }
      ]
    },
    {
      "cell_type": "markdown",
      "source": [
        "# Monthly Hotel Booking Analysis Based on Hotel Type"
      ],
      "metadata": {
        "id": "00WawgsHael6"
      }
    },
    {
      "cell_type": "code",
      "source": [
        "#membuat copy data hasil pre processing \n",
        "df2 = df_preprocessing.copy()"
      ],
      "metadata": {
        "id": "HMbXCuTg0IsB"
      },
      "execution_count": 20,
      "outputs": []
    },
    {
      "cell_type": "code",
      "source": [
        "#groupby menghitung jumlah pemesanan hotel tiap bulan\n",
        "df2a = df2.groupby(['hotel','arrival_date_month'])['arrival_date_year'].agg(['nunique','count']).reset_index()\n",
        "df2a.columns  = ['hotel', 'arrival_month','unique_year','total_booking']\n",
        "df2a"
      ],
      "metadata": {
        "id": "acf1AOCBazvv",
        "colab": {
          "base_uri": "https://localhost:8080/",
          "height": 801
        },
        "outputId": "d630ffca-be0e-4917-b991-9681a9e6828a"
      },
      "execution_count": 21,
      "outputs": [
        {
          "output_type": "execute_result",
          "data": {
            "text/plain": [
              "           hotel arrival_month  unique_year  total_booking\n",
              "0     City Hotel         April            2           4950\n",
              "1     City Hotel        August            2           7885\n",
              "2     City Hotel      December            2           7594\n",
              "3     City Hotel      February            2           4114\n",
              "4     City Hotel       January            2           4336\n",
              "5     City Hotel          July            2           8221\n",
              "6     City Hotel          June            2           7469\n",
              "7     City Hotel         March            2           3730\n",
              "8     City Hotel           May            2           6434\n",
              "9     City Hotel      November            2           7392\n",
              "10    City Hotel       October            3           8967\n",
              "11    City Hotel     September            3           8071\n",
              "12  Resort Hotel         April            2           3102\n",
              "13  Resort Hotel        August            2           3044\n",
              "14  Resort Hotel      December            2           3553\n",
              "15  Resort Hotel      February            2           2645\n",
              "16  Resort Hotel       January            2           2435\n",
              "17  Resort Hotel          July            2           3559\n",
              "18  Resort Hotel          June            2           3609\n",
              "19  Resort Hotel         March            2           2191\n",
              "20  Resort Hotel           May            2           3334\n",
              "21  Resort Hotel      November            2           3108\n",
              "22  Resort Hotel       October            3           4894\n",
              "23  Resort Hotel     September            3           4573"
            ],
            "text/html": [
              "\n",
              "  <div id=\"df-2cde87a9-5512-4b8a-985a-212e54493c08\">\n",
              "    <div class=\"colab-df-container\">\n",
              "      <div>\n",
              "<style scoped>\n",
              "    .dataframe tbody tr th:only-of-type {\n",
              "        vertical-align: middle;\n",
              "    }\n",
              "\n",
              "    .dataframe tbody tr th {\n",
              "        vertical-align: top;\n",
              "    }\n",
              "\n",
              "    .dataframe thead th {\n",
              "        text-align: right;\n",
              "    }\n",
              "</style>\n",
              "<table border=\"1\" class=\"dataframe\">\n",
              "  <thead>\n",
              "    <tr style=\"text-align: right;\">\n",
              "      <th></th>\n",
              "      <th>hotel</th>\n",
              "      <th>arrival_month</th>\n",
              "      <th>unique_year</th>\n",
              "      <th>total_booking</th>\n",
              "    </tr>\n",
              "  </thead>\n",
              "  <tbody>\n",
              "    <tr>\n",
              "      <th>0</th>\n",
              "      <td>City Hotel</td>\n",
              "      <td>April</td>\n",
              "      <td>2</td>\n",
              "      <td>4950</td>\n",
              "    </tr>\n",
              "    <tr>\n",
              "      <th>1</th>\n",
              "      <td>City Hotel</td>\n",
              "      <td>August</td>\n",
              "      <td>2</td>\n",
              "      <td>7885</td>\n",
              "    </tr>\n",
              "    <tr>\n",
              "      <th>2</th>\n",
              "      <td>City Hotel</td>\n",
              "      <td>December</td>\n",
              "      <td>2</td>\n",
              "      <td>7594</td>\n",
              "    </tr>\n",
              "    <tr>\n",
              "      <th>3</th>\n",
              "      <td>City Hotel</td>\n",
              "      <td>February</td>\n",
              "      <td>2</td>\n",
              "      <td>4114</td>\n",
              "    </tr>\n",
              "    <tr>\n",
              "      <th>4</th>\n",
              "      <td>City Hotel</td>\n",
              "      <td>January</td>\n",
              "      <td>2</td>\n",
              "      <td>4336</td>\n",
              "    </tr>\n",
              "    <tr>\n",
              "      <th>5</th>\n",
              "      <td>City Hotel</td>\n",
              "      <td>July</td>\n",
              "      <td>2</td>\n",
              "      <td>8221</td>\n",
              "    </tr>\n",
              "    <tr>\n",
              "      <th>6</th>\n",
              "      <td>City Hotel</td>\n",
              "      <td>June</td>\n",
              "      <td>2</td>\n",
              "      <td>7469</td>\n",
              "    </tr>\n",
              "    <tr>\n",
              "      <th>7</th>\n",
              "      <td>City Hotel</td>\n",
              "      <td>March</td>\n",
              "      <td>2</td>\n",
              "      <td>3730</td>\n",
              "    </tr>\n",
              "    <tr>\n",
              "      <th>8</th>\n",
              "      <td>City Hotel</td>\n",
              "      <td>May</td>\n",
              "      <td>2</td>\n",
              "      <td>6434</td>\n",
              "    </tr>\n",
              "    <tr>\n",
              "      <th>9</th>\n",
              "      <td>City Hotel</td>\n",
              "      <td>November</td>\n",
              "      <td>2</td>\n",
              "      <td>7392</td>\n",
              "    </tr>\n",
              "    <tr>\n",
              "      <th>10</th>\n",
              "      <td>City Hotel</td>\n",
              "      <td>October</td>\n",
              "      <td>3</td>\n",
              "      <td>8967</td>\n",
              "    </tr>\n",
              "    <tr>\n",
              "      <th>11</th>\n",
              "      <td>City Hotel</td>\n",
              "      <td>September</td>\n",
              "      <td>3</td>\n",
              "      <td>8071</td>\n",
              "    </tr>\n",
              "    <tr>\n",
              "      <th>12</th>\n",
              "      <td>Resort Hotel</td>\n",
              "      <td>April</td>\n",
              "      <td>2</td>\n",
              "      <td>3102</td>\n",
              "    </tr>\n",
              "    <tr>\n",
              "      <th>13</th>\n",
              "      <td>Resort Hotel</td>\n",
              "      <td>August</td>\n",
              "      <td>2</td>\n",
              "      <td>3044</td>\n",
              "    </tr>\n",
              "    <tr>\n",
              "      <th>14</th>\n",
              "      <td>Resort Hotel</td>\n",
              "      <td>December</td>\n",
              "      <td>2</td>\n",
              "      <td>3553</td>\n",
              "    </tr>\n",
              "    <tr>\n",
              "      <th>15</th>\n",
              "      <td>Resort Hotel</td>\n",
              "      <td>February</td>\n",
              "      <td>2</td>\n",
              "      <td>2645</td>\n",
              "    </tr>\n",
              "    <tr>\n",
              "      <th>16</th>\n",
              "      <td>Resort Hotel</td>\n",
              "      <td>January</td>\n",
              "      <td>2</td>\n",
              "      <td>2435</td>\n",
              "    </tr>\n",
              "    <tr>\n",
              "      <th>17</th>\n",
              "      <td>Resort Hotel</td>\n",
              "      <td>July</td>\n",
              "      <td>2</td>\n",
              "      <td>3559</td>\n",
              "    </tr>\n",
              "    <tr>\n",
              "      <th>18</th>\n",
              "      <td>Resort Hotel</td>\n",
              "      <td>June</td>\n",
              "      <td>2</td>\n",
              "      <td>3609</td>\n",
              "    </tr>\n",
              "    <tr>\n",
              "      <th>19</th>\n",
              "      <td>Resort Hotel</td>\n",
              "      <td>March</td>\n",
              "      <td>2</td>\n",
              "      <td>2191</td>\n",
              "    </tr>\n",
              "    <tr>\n",
              "      <th>20</th>\n",
              "      <td>Resort Hotel</td>\n",
              "      <td>May</td>\n",
              "      <td>2</td>\n",
              "      <td>3334</td>\n",
              "    </tr>\n",
              "    <tr>\n",
              "      <th>21</th>\n",
              "      <td>Resort Hotel</td>\n",
              "      <td>November</td>\n",
              "      <td>2</td>\n",
              "      <td>3108</td>\n",
              "    </tr>\n",
              "    <tr>\n",
              "      <th>22</th>\n",
              "      <td>Resort Hotel</td>\n",
              "      <td>October</td>\n",
              "      <td>3</td>\n",
              "      <td>4894</td>\n",
              "    </tr>\n",
              "    <tr>\n",
              "      <th>23</th>\n",
              "      <td>Resort Hotel</td>\n",
              "      <td>September</td>\n",
              "      <td>3</td>\n",
              "      <td>4573</td>\n",
              "    </tr>\n",
              "  </tbody>\n",
              "</table>\n",
              "</div>\n",
              "      <button class=\"colab-df-convert\" onclick=\"convertToInteractive('df-2cde87a9-5512-4b8a-985a-212e54493c08')\"\n",
              "              title=\"Convert this dataframe to an interactive table.\"\n",
              "              style=\"display:none;\">\n",
              "        \n",
              "  <svg xmlns=\"http://www.w3.org/2000/svg\" height=\"24px\"viewBox=\"0 0 24 24\"\n",
              "       width=\"24px\">\n",
              "    <path d=\"M0 0h24v24H0V0z\" fill=\"none\"/>\n",
              "    <path d=\"M18.56 5.44l.94 2.06.94-2.06 2.06-.94-2.06-.94-.94-2.06-.94 2.06-2.06.94zm-11 1L8.5 8.5l.94-2.06 2.06-.94-2.06-.94L8.5 2.5l-.94 2.06-2.06.94zm10 10l.94 2.06.94-2.06 2.06-.94-2.06-.94-.94-2.06-.94 2.06-2.06.94z\"/><path d=\"M17.41 7.96l-1.37-1.37c-.4-.4-.92-.59-1.43-.59-.52 0-1.04.2-1.43.59L10.3 9.45l-7.72 7.72c-.78.78-.78 2.05 0 2.83L4 21.41c.39.39.9.59 1.41.59.51 0 1.02-.2 1.41-.59l7.78-7.78 2.81-2.81c.8-.78.8-2.07 0-2.86zM5.41 20L4 18.59l7.72-7.72 1.47 1.35L5.41 20z\"/>\n",
              "  </svg>\n",
              "      </button>\n",
              "      \n",
              "  <style>\n",
              "    .colab-df-container {\n",
              "      display:flex;\n",
              "      flex-wrap:wrap;\n",
              "      gap: 12px;\n",
              "    }\n",
              "\n",
              "    .colab-df-convert {\n",
              "      background-color: #E8F0FE;\n",
              "      border: none;\n",
              "      border-radius: 50%;\n",
              "      cursor: pointer;\n",
              "      display: none;\n",
              "      fill: #1967D2;\n",
              "      height: 32px;\n",
              "      padding: 0 0 0 0;\n",
              "      width: 32px;\n",
              "    }\n",
              "\n",
              "    .colab-df-convert:hover {\n",
              "      background-color: #E2EBFA;\n",
              "      box-shadow: 0px 1px 2px rgba(60, 64, 67, 0.3), 0px 1px 3px 1px rgba(60, 64, 67, 0.15);\n",
              "      fill: #174EA6;\n",
              "    }\n",
              "\n",
              "    [theme=dark] .colab-df-convert {\n",
              "      background-color: #3B4455;\n",
              "      fill: #D2E3FC;\n",
              "    }\n",
              "\n",
              "    [theme=dark] .colab-df-convert:hover {\n",
              "      background-color: #434B5C;\n",
              "      box-shadow: 0px 1px 3px 1px rgba(0, 0, 0, 0.15);\n",
              "      filter: drop-shadow(0px 1px 2px rgba(0, 0, 0, 0.3));\n",
              "      fill: #FFFFFF;\n",
              "    }\n",
              "  </style>\n",
              "\n",
              "      <script>\n",
              "        const buttonEl =\n",
              "          document.querySelector('#df-2cde87a9-5512-4b8a-985a-212e54493c08 button.colab-df-convert');\n",
              "        buttonEl.style.display =\n",
              "          google.colab.kernel.accessAllowed ? 'block' : 'none';\n",
              "\n",
              "        async function convertToInteractive(key) {\n",
              "          const element = document.querySelector('#df-2cde87a9-5512-4b8a-985a-212e54493c08');\n",
              "          const dataTable =\n",
              "            await google.colab.kernel.invokeFunction('convertToInteractive',\n",
              "                                                     [key], {});\n",
              "          if (!dataTable) return;\n",
              "\n",
              "          const docLinkHtml = 'Like what you see? Visit the ' +\n",
              "            '<a target=\"_blank\" href=https://colab.research.google.com/notebooks/data_table.ipynb>data table notebook</a>'\n",
              "            + ' to learn more about interactive tables.';\n",
              "          element.innerHTML = '';\n",
              "          dataTable['output_type'] = 'display_data';\n",
              "          await google.colab.output.renderOutput(dataTable, element);\n",
              "          const docLink = document.createElement('div');\n",
              "          docLink.innerHTML = docLinkHtml;\n",
              "          element.appendChild(docLink);\n",
              "        }\n",
              "      </script>\n",
              "    </div>\n",
              "  </div>\n",
              "  "
            ]
          },
          "metadata": {},
          "execution_count": 21
        }
      ]
    },
    {
      "cell_type": "markdown",
      "source": [
        "bulan oktober dan september memiliki data dari 3tahun yang lalu, sedangkan bulan lain hanya punya data 2tahun"
      ],
      "metadata": {
        "id": "I5LsNpyV1gdT"
      }
    },
    {
      "cell_type": "code",
      "source": [
        "#normalisasi data untuk menghitung ata-rata jumla pemesanan per bulan tiap tahun\n",
        "df2a['avg_total_booking'] = round(df2a['total_booking']/df2a['unique_year'])\n",
        "df2a"
      ],
      "metadata": {
        "colab": {
          "base_uri": "https://localhost:8080/",
          "height": 801
        },
        "id": "gefv8qKi1s4P",
        "outputId": "19579fa2-ec81-495a-dd9a-43f0779444f8"
      },
      "execution_count": 22,
      "outputs": [
        {
          "output_type": "execute_result",
          "data": {
            "text/plain": [
              "           hotel arrival_month  unique_year  total_booking  avg_total_booking\n",
              "0     City Hotel         April            2           4950             2475.0\n",
              "1     City Hotel        August            2           7885             3942.0\n",
              "2     City Hotel      December            2           7594             3797.0\n",
              "3     City Hotel      February            2           4114             2057.0\n",
              "4     City Hotel       January            2           4336             2168.0\n",
              "5     City Hotel          July            2           8221             4110.0\n",
              "6     City Hotel          June            2           7469             3734.0\n",
              "7     City Hotel         March            2           3730             1865.0\n",
              "8     City Hotel           May            2           6434             3217.0\n",
              "9     City Hotel      November            2           7392             3696.0\n",
              "10    City Hotel       October            3           8967             2989.0\n",
              "11    City Hotel     September            3           8071             2690.0\n",
              "12  Resort Hotel         April            2           3102             1551.0\n",
              "13  Resort Hotel        August            2           3044             1522.0\n",
              "14  Resort Hotel      December            2           3553             1776.0\n",
              "15  Resort Hotel      February            2           2645             1322.0\n",
              "16  Resort Hotel       January            2           2435             1218.0\n",
              "17  Resort Hotel          July            2           3559             1780.0\n",
              "18  Resort Hotel          June            2           3609             1804.0\n",
              "19  Resort Hotel         March            2           2191             1096.0\n",
              "20  Resort Hotel           May            2           3334             1667.0\n",
              "21  Resort Hotel      November            2           3108             1554.0\n",
              "22  Resort Hotel       October            3           4894             1631.0\n",
              "23  Resort Hotel     September            3           4573             1524.0"
            ],
            "text/html": [
              "\n",
              "  <div id=\"df-596536f1-137e-450d-a613-f29a3dd948c9\">\n",
              "    <div class=\"colab-df-container\">\n",
              "      <div>\n",
              "<style scoped>\n",
              "    .dataframe tbody tr th:only-of-type {\n",
              "        vertical-align: middle;\n",
              "    }\n",
              "\n",
              "    .dataframe tbody tr th {\n",
              "        vertical-align: top;\n",
              "    }\n",
              "\n",
              "    .dataframe thead th {\n",
              "        text-align: right;\n",
              "    }\n",
              "</style>\n",
              "<table border=\"1\" class=\"dataframe\">\n",
              "  <thead>\n",
              "    <tr style=\"text-align: right;\">\n",
              "      <th></th>\n",
              "      <th>hotel</th>\n",
              "      <th>arrival_month</th>\n",
              "      <th>unique_year</th>\n",
              "      <th>total_booking</th>\n",
              "      <th>avg_total_booking</th>\n",
              "    </tr>\n",
              "  </thead>\n",
              "  <tbody>\n",
              "    <tr>\n",
              "      <th>0</th>\n",
              "      <td>City Hotel</td>\n",
              "      <td>April</td>\n",
              "      <td>2</td>\n",
              "      <td>4950</td>\n",
              "      <td>2475.0</td>\n",
              "    </tr>\n",
              "    <tr>\n",
              "      <th>1</th>\n",
              "      <td>City Hotel</td>\n",
              "      <td>August</td>\n",
              "      <td>2</td>\n",
              "      <td>7885</td>\n",
              "      <td>3942.0</td>\n",
              "    </tr>\n",
              "    <tr>\n",
              "      <th>2</th>\n",
              "      <td>City Hotel</td>\n",
              "      <td>December</td>\n",
              "      <td>2</td>\n",
              "      <td>7594</td>\n",
              "      <td>3797.0</td>\n",
              "    </tr>\n",
              "    <tr>\n",
              "      <th>3</th>\n",
              "      <td>City Hotel</td>\n",
              "      <td>February</td>\n",
              "      <td>2</td>\n",
              "      <td>4114</td>\n",
              "      <td>2057.0</td>\n",
              "    </tr>\n",
              "    <tr>\n",
              "      <th>4</th>\n",
              "      <td>City Hotel</td>\n",
              "      <td>January</td>\n",
              "      <td>2</td>\n",
              "      <td>4336</td>\n",
              "      <td>2168.0</td>\n",
              "    </tr>\n",
              "    <tr>\n",
              "      <th>5</th>\n",
              "      <td>City Hotel</td>\n",
              "      <td>July</td>\n",
              "      <td>2</td>\n",
              "      <td>8221</td>\n",
              "      <td>4110.0</td>\n",
              "    </tr>\n",
              "    <tr>\n",
              "      <th>6</th>\n",
              "      <td>City Hotel</td>\n",
              "      <td>June</td>\n",
              "      <td>2</td>\n",
              "      <td>7469</td>\n",
              "      <td>3734.0</td>\n",
              "    </tr>\n",
              "    <tr>\n",
              "      <th>7</th>\n",
              "      <td>City Hotel</td>\n",
              "      <td>March</td>\n",
              "      <td>2</td>\n",
              "      <td>3730</td>\n",
              "      <td>1865.0</td>\n",
              "    </tr>\n",
              "    <tr>\n",
              "      <th>8</th>\n",
              "      <td>City Hotel</td>\n",
              "      <td>May</td>\n",
              "      <td>2</td>\n",
              "      <td>6434</td>\n",
              "      <td>3217.0</td>\n",
              "    </tr>\n",
              "    <tr>\n",
              "      <th>9</th>\n",
              "      <td>City Hotel</td>\n",
              "      <td>November</td>\n",
              "      <td>2</td>\n",
              "      <td>7392</td>\n",
              "      <td>3696.0</td>\n",
              "    </tr>\n",
              "    <tr>\n",
              "      <th>10</th>\n",
              "      <td>City Hotel</td>\n",
              "      <td>October</td>\n",
              "      <td>3</td>\n",
              "      <td>8967</td>\n",
              "      <td>2989.0</td>\n",
              "    </tr>\n",
              "    <tr>\n",
              "      <th>11</th>\n",
              "      <td>City Hotel</td>\n",
              "      <td>September</td>\n",
              "      <td>3</td>\n",
              "      <td>8071</td>\n",
              "      <td>2690.0</td>\n",
              "    </tr>\n",
              "    <tr>\n",
              "      <th>12</th>\n",
              "      <td>Resort Hotel</td>\n",
              "      <td>April</td>\n",
              "      <td>2</td>\n",
              "      <td>3102</td>\n",
              "      <td>1551.0</td>\n",
              "    </tr>\n",
              "    <tr>\n",
              "      <th>13</th>\n",
              "      <td>Resort Hotel</td>\n",
              "      <td>August</td>\n",
              "      <td>2</td>\n",
              "      <td>3044</td>\n",
              "      <td>1522.0</td>\n",
              "    </tr>\n",
              "    <tr>\n",
              "      <th>14</th>\n",
              "      <td>Resort Hotel</td>\n",
              "      <td>December</td>\n",
              "      <td>2</td>\n",
              "      <td>3553</td>\n",
              "      <td>1776.0</td>\n",
              "    </tr>\n",
              "    <tr>\n",
              "      <th>15</th>\n",
              "      <td>Resort Hotel</td>\n",
              "      <td>February</td>\n",
              "      <td>2</td>\n",
              "      <td>2645</td>\n",
              "      <td>1322.0</td>\n",
              "    </tr>\n",
              "    <tr>\n",
              "      <th>16</th>\n",
              "      <td>Resort Hotel</td>\n",
              "      <td>January</td>\n",
              "      <td>2</td>\n",
              "      <td>2435</td>\n",
              "      <td>1218.0</td>\n",
              "    </tr>\n",
              "    <tr>\n",
              "      <th>17</th>\n",
              "      <td>Resort Hotel</td>\n",
              "      <td>July</td>\n",
              "      <td>2</td>\n",
              "      <td>3559</td>\n",
              "      <td>1780.0</td>\n",
              "    </tr>\n",
              "    <tr>\n",
              "      <th>18</th>\n",
              "      <td>Resort Hotel</td>\n",
              "      <td>June</td>\n",
              "      <td>2</td>\n",
              "      <td>3609</td>\n",
              "      <td>1804.0</td>\n",
              "    </tr>\n",
              "    <tr>\n",
              "      <th>19</th>\n",
              "      <td>Resort Hotel</td>\n",
              "      <td>March</td>\n",
              "      <td>2</td>\n",
              "      <td>2191</td>\n",
              "      <td>1096.0</td>\n",
              "    </tr>\n",
              "    <tr>\n",
              "      <th>20</th>\n",
              "      <td>Resort Hotel</td>\n",
              "      <td>May</td>\n",
              "      <td>2</td>\n",
              "      <td>3334</td>\n",
              "      <td>1667.0</td>\n",
              "    </tr>\n",
              "    <tr>\n",
              "      <th>21</th>\n",
              "      <td>Resort Hotel</td>\n",
              "      <td>November</td>\n",
              "      <td>2</td>\n",
              "      <td>3108</td>\n",
              "      <td>1554.0</td>\n",
              "    </tr>\n",
              "    <tr>\n",
              "      <th>22</th>\n",
              "      <td>Resort Hotel</td>\n",
              "      <td>October</td>\n",
              "      <td>3</td>\n",
              "      <td>4894</td>\n",
              "      <td>1631.0</td>\n",
              "    </tr>\n",
              "    <tr>\n",
              "      <th>23</th>\n",
              "      <td>Resort Hotel</td>\n",
              "      <td>September</td>\n",
              "      <td>3</td>\n",
              "      <td>4573</td>\n",
              "      <td>1524.0</td>\n",
              "    </tr>\n",
              "  </tbody>\n",
              "</table>\n",
              "</div>\n",
              "      <button class=\"colab-df-convert\" onclick=\"convertToInteractive('df-596536f1-137e-450d-a613-f29a3dd948c9')\"\n",
              "              title=\"Convert this dataframe to an interactive table.\"\n",
              "              style=\"display:none;\">\n",
              "        \n",
              "  <svg xmlns=\"http://www.w3.org/2000/svg\" height=\"24px\"viewBox=\"0 0 24 24\"\n",
              "       width=\"24px\">\n",
              "    <path d=\"M0 0h24v24H0V0z\" fill=\"none\"/>\n",
              "    <path d=\"M18.56 5.44l.94 2.06.94-2.06 2.06-.94-2.06-.94-.94-2.06-.94 2.06-2.06.94zm-11 1L8.5 8.5l.94-2.06 2.06-.94-2.06-.94L8.5 2.5l-.94 2.06-2.06.94zm10 10l.94 2.06.94-2.06 2.06-.94-2.06-.94-.94-2.06-.94 2.06-2.06.94z\"/><path d=\"M17.41 7.96l-1.37-1.37c-.4-.4-.92-.59-1.43-.59-.52 0-1.04.2-1.43.59L10.3 9.45l-7.72 7.72c-.78.78-.78 2.05 0 2.83L4 21.41c.39.39.9.59 1.41.59.51 0 1.02-.2 1.41-.59l7.78-7.78 2.81-2.81c.8-.78.8-2.07 0-2.86zM5.41 20L4 18.59l7.72-7.72 1.47 1.35L5.41 20z\"/>\n",
              "  </svg>\n",
              "      </button>\n",
              "      \n",
              "  <style>\n",
              "    .colab-df-container {\n",
              "      display:flex;\n",
              "      flex-wrap:wrap;\n",
              "      gap: 12px;\n",
              "    }\n",
              "\n",
              "    .colab-df-convert {\n",
              "      background-color: #E8F0FE;\n",
              "      border: none;\n",
              "      border-radius: 50%;\n",
              "      cursor: pointer;\n",
              "      display: none;\n",
              "      fill: #1967D2;\n",
              "      height: 32px;\n",
              "      padding: 0 0 0 0;\n",
              "      width: 32px;\n",
              "    }\n",
              "\n",
              "    .colab-df-convert:hover {\n",
              "      background-color: #E2EBFA;\n",
              "      box-shadow: 0px 1px 2px rgba(60, 64, 67, 0.3), 0px 1px 3px 1px rgba(60, 64, 67, 0.15);\n",
              "      fill: #174EA6;\n",
              "    }\n",
              "\n",
              "    [theme=dark] .colab-df-convert {\n",
              "      background-color: #3B4455;\n",
              "      fill: #D2E3FC;\n",
              "    }\n",
              "\n",
              "    [theme=dark] .colab-df-convert:hover {\n",
              "      background-color: #434B5C;\n",
              "      box-shadow: 0px 1px 3px 1px rgba(0, 0, 0, 0.15);\n",
              "      filter: drop-shadow(0px 1px 2px rgba(0, 0, 0, 0.3));\n",
              "      fill: #FFFFFF;\n",
              "    }\n",
              "  </style>\n",
              "\n",
              "      <script>\n",
              "        const buttonEl =\n",
              "          document.querySelector('#df-596536f1-137e-450d-a613-f29a3dd948c9 button.colab-df-convert');\n",
              "        buttonEl.style.display =\n",
              "          google.colab.kernel.accessAllowed ? 'block' : 'none';\n",
              "\n",
              "        async function convertToInteractive(key) {\n",
              "          const element = document.querySelector('#df-596536f1-137e-450d-a613-f29a3dd948c9');\n",
              "          const dataTable =\n",
              "            await google.colab.kernel.invokeFunction('convertToInteractive',\n",
              "                                                     [key], {});\n",
              "          if (!dataTable) return;\n",
              "\n",
              "          const docLinkHtml = 'Like what you see? Visit the ' +\n",
              "            '<a target=\"_blank\" href=https://colab.research.google.com/notebooks/data_table.ipynb>data table notebook</a>'\n",
              "            + ' to learn more about interactive tables.';\n",
              "          element.innerHTML = '';\n",
              "          dataTable['output_type'] = 'display_data';\n",
              "          await google.colab.output.renderOutput(dataTable, element);\n",
              "          const docLink = document.createElement('div');\n",
              "          docLink.innerHTML = docLinkHtml;\n",
              "          element.appendChild(docLink);\n",
              "        }\n",
              "      </script>\n",
              "    </div>\n",
              "  </div>\n",
              "  "
            ]
          },
          "metadata": {},
          "execution_count": 22
        }
      ]
    },
    {
      "cell_type": "code",
      "source": [
        "#mengurutkan data berdasarkan bulan\n",
        "ordered_months = ['Jan', 'Feb', 'Mar','Apr','May','Jun','Jul','Aug','Sep','Oct','Nov','Dec']\n",
        "df2a['month'] = df2a['arrival_month'].str[:3]\n",
        "df2a['month'] = pd.Categorical(df2a['month'], categories = ordered_months, ordered = True)\n",
        "\n",
        "df2a.head()"
      ],
      "metadata": {
        "colab": {
          "base_uri": "https://localhost:8080/",
          "height": 206
        },
        "id": "s-7m0J5t2TBJ",
        "outputId": "bc73d19c-977a-49f2-b0c4-3946e88a36db"
      },
      "execution_count": 23,
      "outputs": [
        {
          "output_type": "execute_result",
          "data": {
            "text/plain": [
              "        hotel arrival_month  unique_year  total_booking  avg_total_booking  \\\n",
              "0  City Hotel         April            2           4950             2475.0   \n",
              "1  City Hotel        August            2           7885             3942.0   \n",
              "2  City Hotel      December            2           7594             3797.0   \n",
              "3  City Hotel      February            2           4114             2057.0   \n",
              "4  City Hotel       January            2           4336             2168.0   \n",
              "\n",
              "  month  \n",
              "0   Apr  \n",
              "1   Aug  \n",
              "2   Dec  \n",
              "3   Feb  \n",
              "4   Jan  "
            ],
            "text/html": [
              "\n",
              "  <div id=\"df-86e3e85d-1694-4678-8954-d0bf13228e99\">\n",
              "    <div class=\"colab-df-container\">\n",
              "      <div>\n",
              "<style scoped>\n",
              "    .dataframe tbody tr th:only-of-type {\n",
              "        vertical-align: middle;\n",
              "    }\n",
              "\n",
              "    .dataframe tbody tr th {\n",
              "        vertical-align: top;\n",
              "    }\n",
              "\n",
              "    .dataframe thead th {\n",
              "        text-align: right;\n",
              "    }\n",
              "</style>\n",
              "<table border=\"1\" class=\"dataframe\">\n",
              "  <thead>\n",
              "    <tr style=\"text-align: right;\">\n",
              "      <th></th>\n",
              "      <th>hotel</th>\n",
              "      <th>arrival_month</th>\n",
              "      <th>unique_year</th>\n",
              "      <th>total_booking</th>\n",
              "      <th>avg_total_booking</th>\n",
              "      <th>month</th>\n",
              "    </tr>\n",
              "  </thead>\n",
              "  <tbody>\n",
              "    <tr>\n",
              "      <th>0</th>\n",
              "      <td>City Hotel</td>\n",
              "      <td>April</td>\n",
              "      <td>2</td>\n",
              "      <td>4950</td>\n",
              "      <td>2475.0</td>\n",
              "      <td>Apr</td>\n",
              "    </tr>\n",
              "    <tr>\n",
              "      <th>1</th>\n",
              "      <td>City Hotel</td>\n",
              "      <td>August</td>\n",
              "      <td>2</td>\n",
              "      <td>7885</td>\n",
              "      <td>3942.0</td>\n",
              "      <td>Aug</td>\n",
              "    </tr>\n",
              "    <tr>\n",
              "      <th>2</th>\n",
              "      <td>City Hotel</td>\n",
              "      <td>December</td>\n",
              "      <td>2</td>\n",
              "      <td>7594</td>\n",
              "      <td>3797.0</td>\n",
              "      <td>Dec</td>\n",
              "    </tr>\n",
              "    <tr>\n",
              "      <th>3</th>\n",
              "      <td>City Hotel</td>\n",
              "      <td>February</td>\n",
              "      <td>2</td>\n",
              "      <td>4114</td>\n",
              "      <td>2057.0</td>\n",
              "      <td>Feb</td>\n",
              "    </tr>\n",
              "    <tr>\n",
              "      <th>4</th>\n",
              "      <td>City Hotel</td>\n",
              "      <td>January</td>\n",
              "      <td>2</td>\n",
              "      <td>4336</td>\n",
              "      <td>2168.0</td>\n",
              "      <td>Jan</td>\n",
              "    </tr>\n",
              "  </tbody>\n",
              "</table>\n",
              "</div>\n",
              "      <button class=\"colab-df-convert\" onclick=\"convertToInteractive('df-86e3e85d-1694-4678-8954-d0bf13228e99')\"\n",
              "              title=\"Convert this dataframe to an interactive table.\"\n",
              "              style=\"display:none;\">\n",
              "        \n",
              "  <svg xmlns=\"http://www.w3.org/2000/svg\" height=\"24px\"viewBox=\"0 0 24 24\"\n",
              "       width=\"24px\">\n",
              "    <path d=\"M0 0h24v24H0V0z\" fill=\"none\"/>\n",
              "    <path d=\"M18.56 5.44l.94 2.06.94-2.06 2.06-.94-2.06-.94-.94-2.06-.94 2.06-2.06.94zm-11 1L8.5 8.5l.94-2.06 2.06-.94-2.06-.94L8.5 2.5l-.94 2.06-2.06.94zm10 10l.94 2.06.94-2.06 2.06-.94-2.06-.94-.94-2.06-.94 2.06-2.06.94z\"/><path d=\"M17.41 7.96l-1.37-1.37c-.4-.4-.92-.59-1.43-.59-.52 0-1.04.2-1.43.59L10.3 9.45l-7.72 7.72c-.78.78-.78 2.05 0 2.83L4 21.41c.39.39.9.59 1.41.59.51 0 1.02-.2 1.41-.59l7.78-7.78 2.81-2.81c.8-.78.8-2.07 0-2.86zM5.41 20L4 18.59l7.72-7.72 1.47 1.35L5.41 20z\"/>\n",
              "  </svg>\n",
              "      </button>\n",
              "      \n",
              "  <style>\n",
              "    .colab-df-container {\n",
              "      display:flex;\n",
              "      flex-wrap:wrap;\n",
              "      gap: 12px;\n",
              "    }\n",
              "\n",
              "    .colab-df-convert {\n",
              "      background-color: #E8F0FE;\n",
              "      border: none;\n",
              "      border-radius: 50%;\n",
              "      cursor: pointer;\n",
              "      display: none;\n",
              "      fill: #1967D2;\n",
              "      height: 32px;\n",
              "      padding: 0 0 0 0;\n",
              "      width: 32px;\n",
              "    }\n",
              "\n",
              "    .colab-df-convert:hover {\n",
              "      background-color: #E2EBFA;\n",
              "      box-shadow: 0px 1px 2px rgba(60, 64, 67, 0.3), 0px 1px 3px 1px rgba(60, 64, 67, 0.15);\n",
              "      fill: #174EA6;\n",
              "    }\n",
              "\n",
              "    [theme=dark] .colab-df-convert {\n",
              "      background-color: #3B4455;\n",
              "      fill: #D2E3FC;\n",
              "    }\n",
              "\n",
              "    [theme=dark] .colab-df-convert:hover {\n",
              "      background-color: #434B5C;\n",
              "      box-shadow: 0px 1px 3px 1px rgba(0, 0, 0, 0.15);\n",
              "      filter: drop-shadow(0px 1px 2px rgba(0, 0, 0, 0.3));\n",
              "      fill: #FFFFFF;\n",
              "    }\n",
              "  </style>\n",
              "\n",
              "      <script>\n",
              "        const buttonEl =\n",
              "          document.querySelector('#df-86e3e85d-1694-4678-8954-d0bf13228e99 button.colab-df-convert');\n",
              "        buttonEl.style.display =\n",
              "          google.colab.kernel.accessAllowed ? 'block' : 'none';\n",
              "\n",
              "        async function convertToInteractive(key) {\n",
              "          const element = document.querySelector('#df-86e3e85d-1694-4678-8954-d0bf13228e99');\n",
              "          const dataTable =\n",
              "            await google.colab.kernel.invokeFunction('convertToInteractive',\n",
              "                                                     [key], {});\n",
              "          if (!dataTable) return;\n",
              "\n",
              "          const docLinkHtml = 'Like what you see? Visit the ' +\n",
              "            '<a target=\"_blank\" href=https://colab.research.google.com/notebooks/data_table.ipynb>data table notebook</a>'\n",
              "            + ' to learn more about interactive tables.';\n",
              "          element.innerHTML = '';\n",
              "          dataTable['output_type'] = 'display_data';\n",
              "          await google.colab.output.renderOutput(dataTable, element);\n",
              "          const docLink = document.createElement('div');\n",
              "          docLink.innerHTML = docLinkHtml;\n",
              "          element.appendChild(docLink);\n",
              "        }\n",
              "      </script>\n",
              "    </div>\n",
              "  </div>\n",
              "  "
            ]
          },
          "metadata": {},
          "execution_count": 23
        }
      ]
    },
    {
      "cell_type": "markdown",
      "source": [
        ""
      ],
      "metadata": {
        "id": "yeB9sk5Sh8gK"
      }
    },
    {
      "cell_type": "markdown",
      "source": [
        "menampilkan plot untuk membandingkan 2 tipe hotel dalam setiap bulan, yaitu tipe hotel kta dn tipe hotel resort sepanjang tahun. sehingga jenis plot yang tepat adalah line plot "
      ],
      "metadata": {
        "id": "DkTB0gQo3WRc"
      }
    },
    {
      "cell_type": "code",
      "source": [
        "#membuat line plot\n",
        "plt.figure(figsize = (20,10))\n",
        "sns.lineplot(x = 'month', y = 'avg_total_booking', hue = 'hotel',\n",
        "             size = 'hotel', sizes=(4,4), data = df2a)\n",
        "\n",
        "#memberi judul dan mengatur font size\n",
        "plt.tick_params(axis = 'both', which = 'major', labelsize = 14)\n",
        "plt.grid()\n",
        "plt.legend(title = 'Hotel Type', title_fontsize = 15, prop={'size' : 13})\n",
        "\n",
        "plt.xlabel('Arrival Month', fontsize = 15)\n",
        "plt.ylabel('Average Total Booking', fontsize = 15)\n",
        "plt.ylim(0,4800)\n",
        "\n",
        "#memberikan highlight pada insight data\n",
        "plt.axvline(4, ls = '--', color = 'Green')\n",
        "plt.axvline(6, ls = '--', color = 'Green')\n",
        "plt.text(x=5, y=4400, s='Holiday \\nSeason', fontsize = 16, color= 'Black')\n",
        "plt.stackplot(np.arange(4,7,1),[[4800]], color = 'Green', alpha = 0.2)\n",
        "\n",
        "plt.axvline(9, ls = '--', color = 'Green')\n",
        "plt.axvline(11, ls = '--', color = 'Green')\n",
        "plt.text(x=10, y=4400, s='Holiday \\nSeason', fontsize = 16, color= 'Black')\n",
        "plt.stackplot(np.arange(9,12,1),[[4800]], color = 'Green', alpha = 0.2)\n",
        "\n",
        "plt.text(x = -0.5, y = 5300, s='Both hotels have more customer during holiday season', fontsize = 20)\n",
        "plt.text(x = -0.5, y = 5100, s = 'City hotel total customer decreased in August-september, while Resort hotel slightly decreased', fontsize = 18)\n",
        "plt.text(x = -0.5, y = 4900, s = 'Both hotels has less customers outside holiday season', fontsize = 18)\n",
        "\n",
        "plt.tight_layout()\n",
        "plt.savefig('monthly_hotel_booking_analysis.png', dpi = 200)"
      ],
      "metadata": {
        "colab": {
          "base_uri": "https://localhost:8080/",
          "height": 734
        },
        "id": "kxwov4yS3k2q",
        "outputId": "253eda14-46fe-4a80-a3d6-d27966891ea3"
      },
      "execution_count": 24,
      "outputs": [
        {
          "output_type": "display_data",
          "data": {
            "text/plain": [
              "<Figure size 1440x720 with 1 Axes>"
            ],
            "image/png": "[encoded data removed]"
          },
          "metadata": {
            "needs_background": "light"
          }
        }
      ]
    },
    {
      "cell_type": "markdown",
      "source": [
        "# Impact Analysis of Stay Duration on Hotel Bookings Cancellation Rates\n"
      ],
      "metadata": {
        "id": "WVcBNHoSAws7"
      }
    },
    {
      "cell_type": "code",
      "source": [
        "#membuat copy data hasil pre processing \n",
        "df3 = df_preprocessing.copy()\n",
        "\n",
        "#agregasi total durasi menginap untuk tiap hotel\n",
        "df3['nights_stayed'] = df3['stays_in_weekend_nights'] + df3['stays_in_weekdays_nights']\n",
        "\n",
        "sns.histplot(data = df3, x = 'nights_stayed', binwidth = 4, color = 'Yellow')"
      ],
      "metadata": {
        "colab": {
          "base_uri": "https://localhost:8080/",
          "height": 303
        },
        "id": "T_zYy-r4A8ID",
        "outputId": "03926118-6708-4f6d-9825-b2b2d41d6698"
      },
      "execution_count": 25,
      "outputs": [
        {
          "output_type": "execute_result",
          "data": {
            "text/plain": [
              "<matplotlib.axes._subplots.AxesSubplot at 0x7ff304182590>"
            ]
          },
          "metadata": {},
          "execution_count": 25
        },
        {
          "output_type": "display_data",
          "data": {
            "text/plain": [
              "<Figure size 432x288 with 1 Axes>"
            ],
            "image/png": "[encoded data removed]"
          },
          "metadata": {
            "needs_background": "light"
          }
        }
      ]
    },
    {
      "cell_type": "markdown",
      "source": [
        "data dalam keadaan right skewed, sedangkan analisa yg baik adalah ketika data ter distribusi normal. sehingga dilakukan pengelompokan agar hasilnya lebih merata. Pengelompokan ini dilakukan untuk total jumlah malamyang mencapai 3 minggu -> dikelompokkan dari malam ke 15 sampai 21, sedangkan yang lainnya >21."
      ],
      "metadata": {
        "id": "x4xhPIx-DUCu"
      }
    },
    {
      "cell_type": "code",
      "source": [
        "# pengelompokan data \n",
        "df3['nights_stayed_group'] = np.where(df3['nights_stayed'] > 21,21,\n",
        "                                      np.where(df3['nights_stayed'] >14, 15, df3['nights_stayed']))\n",
        "\n",
        "#membuat tabel baru\n",
        "df3a = df3.groupby(['hotel', 'is_canceled', 'nights_stayed_group'])['arrival_date_month'].count().reset_index(name = 'number_bookings')\n",
        "df3_pivot = df3a.pivot_table(index = ['hotel', 'nights_stayed_group'], columns = 'is_canceled', values = 'number_bookings').reset_index()\n",
        "df3_pivot['pct_canceled'] = round(df3_pivot[1] * 100 / (df3_pivot[0] + df3_pivot[1]),2)\n",
        "\n",
        "df3_pivot.head()\n",
        "plt.savefig('monthly_hotel_booking_analysis.png', dpi = 200)"
      ],
      "metadata": {
        "colab": {
          "base_uri": "https://localhost:8080/",
          "height": 36
        },
        "id": "WHcTQ0omFaLy",
        "outputId": "20dea7e5-21cb-46a2-ca19-98cf286787de"
      },
      "execution_count": 26,
      "outputs": [
        {
          "output_type": "display_data",
          "data": {
            "text/plain": [
              "<Figure size 432x288 with 0 Axes>"
            ]
          },
          "metadata": {}
        }
      ]
    },
    {
      "cell_type": "markdown",
      "source": [
        "selanjutnya untuk membandingkan 2 tipe hotel terhadap durasi menginapnya pelanggan, akan digunakan diagram batang. plot berikut juga akan melihatkan pengaruh durasi menginap dengan tingkat pembatalan hotel. "
      ],
      "metadata": {
        "id": "_W7iYzV_XgHH"
      }
    },
    {
      "cell_type": "code",
      "source": [
        "plt.figure (figsize = (15,10))\n",
        "sns.regplot(x = 'nights_stayed_group', y = 'pct_canceled', data = df3_pivot[df3_pivot['hotel']== 'City Hotel'], scatter = False, label = 'Trend City Hotel' )\n",
        "sns.regplot(x = 'nights_stayed_group', y = 'pct_canceled', data = df3_pivot[df3_pivot['hotel']== 'Resort Hotel'], scatter = False, label = 'Trend Resort Hotel' )\n",
        "sns.barplot(x = 'nights_stayed_group', y = 'pct_canceled', hue = 'hotel', data = df3_pivot, alpha = 0.75)\n",
        "\n",
        "plt.tick_params(axis = 'both', which = 'major', labelsize = 14)\n",
        "plt.legend(title = 'Hotel Type', title_fontsize = 15, prop={'size' : 13})\n",
        "\n",
        "plt.xlabel('Total Nights Booked', fontsize = 15)\n",
        "plt.ylabel('Percentage of Booking Canceled (%)', fontsize = 15)\n",
        "plt.ylim(0,100)\n",
        "plt.xlim(0.5, 16.5)\n",
        "\n",
        "plt.tight_layout()\n",
        "plt.savefig('Stay Duration on Hotel Bookings Cancellation Rates.png', dpi = 200)"
      ],
      "metadata": {
        "colab": {
          "base_uri": "https://localhost:8080/",
          "height": 729
        },
        "id": "VcBZDiRUX-Na",
        "outputId": "be04be38-6e5a-4244-f0a1-037620995e62"
      },
      "execution_count": 27,
      "outputs": [
        {
          "output_type": "display_data",
          "data": {
            "text/plain": [
              "<Figure size 1080x720 with 1 Axes>"
            ],
            "image/png": "[encoded data removed]"
          },
          "metadata": {
            "needs_background": "light"
          }
        }
      ]
    },
    {
      "cell_type": "code",
      "source": [
        ""
      ],
      "metadata": {
        "id": "ThpoD31NYbb6"
      },
      "execution_count": 27,
      "outputs": []
    },
    {
      "cell_type": "markdown",
      "source": [
        "# Impact Analysis of Lead Time on Hotel Bookings Cancellation Rate"
      ],
      "metadata": {
        "id": "TdwnJ91fe6ax"
      }
    },
    {
      "cell_type": "markdown",
      "source": [
        "melakukan analisis pengaruh jarak waktu pemesanan terhadap tingkat pembatalan pemesanan hotel "
      ],
      "metadata": {
        "id": "E_cegbQEfRrr"
      }
    },
    {
      "cell_type": "code",
      "source": [
        "# #membuat copy data hasil pre processing \n",
        "df4 = df_preprocessing.copy()\n",
        "\n",
        "sns.histplot(data = df3, x='lead_time', bins=50, color='yellow')"
      ],
      "metadata": {
        "colab": {
          "base_uri": "https://localhost:8080/",
          "height": 299
        },
        "id": "KkOtD3ZzfaVz",
        "outputId": "84ca6590-d0a4-48bd-b81b-ead5827458fb"
      },
      "execution_count": 28,
      "outputs": [
        {
          "output_type": "execute_result",
          "data": {
            "text/plain": [
              "<matplotlib.axes._subplots.AxesSubplot at 0x7ff2ffad5510>"
            ]
          },
          "metadata": {},
          "execution_count": 28
        },
        {
          "output_type": "display_data",
          "data": {
            "text/plain": [
              "<Figure size 432x288 with 1 Axes>"
            ],
            "image/png": "[encoded data removed]"
          },
          "metadata": {
            "needs_background": "light"
          }
        }
      ]
    },
    {
      "cell_type": "markdown",
      "source": [
        "berdasarkan pada histogram di atas, persebaran data bersifat right-skewed. oleh karena itu dilakukan pengelompokan untuk membuat persebarannya menjadi lebih merata. jarak pemesanan diubah satuannya menjadi bulanan atau per 30hari"
      ],
      "metadata": {
        "id": "GGc3LJcgfyEz"
      }
    },
    {
      "cell_type": "code",
      "source": [
        "#kategorisasi kolom lead_time agar lebih sederhana\n",
        "df4['lead_times'] = np.where(df4['lead_time'] > 400, 401, df4['lead_time'])\n",
        "bins = list(np.arange(0, max(df4['lead_times'])+30, 30))\n",
        "labels = [\"{0}-{1}\".format(str(bins[x]), str(bins[x+1])) for x in range(len(bins[:-1]))]\n",
        "df4['lead_time_group'] = pd.cut(df4['lead_times'], bins = bins, include_lowest = True, labels = labels)"
      ],
      "metadata": {
        "id": "qNn5SxMgghg5"
      },
      "execution_count": 29,
      "outputs": []
    },
    {
      "cell_type": "code",
      "source": [
        "#agregasi untuk menghitung jum;ah pemesanan berdasarkan grup lead_time yang sudah dibuat dan berdasarkan tipe hotel\n",
        "df4_book = df4.groupby(['hotel','lead_time_group', 'is_canceled'])['hotel'].count().reset_index(name='num_bookings')\n",
        "df4_pivot = df4_book.pivot_table(index=['hotel','lead_time_group'], columns='is_canceled', values='num_bookings').reset_index()\n",
        "df4_pivot.columns = ['hotel_type','lead_time_group', 'not_canceled', 'canceled']\n",
        "df4_pivot['all_bookings'] = df4_pivot['not_canceled']+df4_pivot['canceled']\n",
        "df4_pivot['pct_canceled'] = df4_pivot['canceled']*100.0/(df4_pivot['all_bookings']) \n",
        "\n",
        "df4_pivot.head()"
      ],
      "metadata": {
        "colab": {
          "base_uri": "https://localhost:8080/",
          "height": 206
        },
        "id": "3aGQ-dcGiqjO",
        "outputId": "bb3ebfa5-5344-41d4-8e60-8a5c67a95e22"
      },
      "execution_count": 30,
      "outputs": [
        {
          "output_type": "execute_result",
          "data": {
            "text/plain": [
              "   hotel_type lead_time_group  not_canceled  canceled  all_bookings  \\\n",
              "0  City Hotel            0-30         18060      5184         23244   \n",
              "1  City Hotel           30-60          7266      4608         11874   \n",
              "2  City Hotel           60-90          5210      3692          8902   \n",
              "3  City Hotel          90-120          3956      3486          7442   \n",
              "4  City Hotel         120-150          3064      2542          5606   \n",
              "\n",
              "   pct_canceled  \n",
              "0     22.302530  \n",
              "1     38.807479  \n",
              "2     41.473826  \n",
              "3     46.842247  \n",
              "4     45.344274  "
            ],
            "text/html": [
              "\n",
              "  <div id=\"df-8072fef4-08b3-451a-96c3-791c85533fff\">\n",
              "    <div class=\"colab-df-container\">\n",
              "      <div>\n",
              "<style scoped>\n",
              "    .dataframe tbody tr th:only-of-type {\n",
              "        vertical-align: middle;\n",
              "    }\n",
              "\n",
              "    .dataframe tbody tr th {\n",
              "        vertical-align: top;\n",
              "    }\n",
              "\n",
              "    .dataframe thead th {\n",
              "        text-align: right;\n",
              "    }\n",
              "</style>\n",
              "<table border=\"1\" class=\"dataframe\">\n",
              "  <thead>\n",
              "    <tr style=\"text-align: right;\">\n",
              "      <th></th>\n",
              "      <th>hotel_type</th>\n",
              "      <th>lead_time_group</th>\n",
              "      <th>not_canceled</th>\n",
              "      <th>canceled</th>\n",
              "      <th>all_bookings</th>\n",
              "      <th>pct_canceled</th>\n",
              "    </tr>\n",
              "  </thead>\n",
              "  <tbody>\n",
              "    <tr>\n",
              "      <th>0</th>\n",
              "      <td>City Hotel</td>\n",
              "      <td>0-30</td>\n",
              "      <td>18060</td>\n",
              "      <td>5184</td>\n",
              "      <td>23244</td>\n",
              "      <td>22.302530</td>\n",
              "    </tr>\n",
              "    <tr>\n",
              "      <th>1</th>\n",
              "      <td>City Hotel</td>\n",
              "      <td>30-60</td>\n",
              "      <td>7266</td>\n",
              "      <td>4608</td>\n",
              "      <td>11874</td>\n",
              "      <td>38.807479</td>\n",
              "    </tr>\n",
              "    <tr>\n",
              "      <th>2</th>\n",
              "      <td>City Hotel</td>\n",
              "      <td>60-90</td>\n",
              "      <td>5210</td>\n",
              "      <td>3692</td>\n",
              "      <td>8902</td>\n",
              "      <td>41.473826</td>\n",
              "    </tr>\n",
              "    <tr>\n",
              "      <th>3</th>\n",
              "      <td>City Hotel</td>\n",
              "      <td>90-120</td>\n",
              "      <td>3956</td>\n",
              "      <td>3486</td>\n",
              "      <td>7442</td>\n",
              "      <td>46.842247</td>\n",
              "    </tr>\n",
              "    <tr>\n",
              "      <th>4</th>\n",
              "      <td>City Hotel</td>\n",
              "      <td>120-150</td>\n",
              "      <td>3064</td>\n",
              "      <td>2542</td>\n",
              "      <td>5606</td>\n",
              "      <td>45.344274</td>\n",
              "    </tr>\n",
              "  </tbody>\n",
              "</table>\n",
              "</div>\n",
              "      <button class=\"colab-df-convert\" onclick=\"convertToInteractive('df-8072fef4-08b3-451a-96c3-791c85533fff')\"\n",
              "              title=\"Convert this dataframe to an interactive table.\"\n",
              "              style=\"display:none;\">\n",
              "        \n",
              "  <svg xmlns=\"http://www.w3.org/2000/svg\" height=\"24px\"viewBox=\"0 0 24 24\"\n",
              "       width=\"24px\">\n",
              "    <path d=\"M0 0h24v24H0V0z\" fill=\"none\"/>\n",
              "    <path d=\"M18.56 5.44l.94 2.06.94-2.06 2.06-.94-2.06-.94-.94-2.06-.94 2.06-2.06.94zm-11 1L8.5 8.5l.94-2.06 2.06-.94-2.06-.94L8.5 2.5l-.94 2.06-2.06.94zm10 10l.94 2.06.94-2.06 2.06-.94-2.06-.94-.94-2.06-.94 2.06-2.06.94z\"/><path d=\"M17.41 7.96l-1.37-1.37c-.4-.4-.92-.59-1.43-.59-.52 0-1.04.2-1.43.59L10.3 9.45l-7.72 7.72c-.78.78-.78 2.05 0 2.83L4 21.41c.39.39.9.59 1.41.59.51 0 1.02-.2 1.41-.59l7.78-7.78 2.81-2.81c.8-.78.8-2.07 0-2.86zM5.41 20L4 18.59l7.72-7.72 1.47 1.35L5.41 20z\"/>\n",
              "  </svg>\n",
              "      </button>\n",
              "      \n",
              "  <style>\n",
              "    .colab-df-container {\n",
              "      display:flex;\n",
              "      flex-wrap:wrap;\n",
              "      gap: 12px;\n",
              "    }\n",
              "\n",
              "    .colab-df-convert {\n",
              "      background-color: #E8F0FE;\n",
              "      border: none;\n",
              "      border-radius: 50%;\n",
              "      cursor: pointer;\n",
              "      display: none;\n",
              "      fill: #1967D2;\n",
              "      height: 32px;\n",
              "      padding: 0 0 0 0;\n",
              "      width: 32px;\n",
              "    }\n",
              "\n",
              "    .colab-df-convert:hover {\n",
              "      background-color: #E2EBFA;\n",
              "      box-shadow: 0px 1px 2px rgba(60, 64, 67, 0.3), 0px 1px 3px 1px rgba(60, 64, 67, 0.15);\n",
              "      fill: #174EA6;\n",
              "    }\n",
              "\n",
              "    [theme=dark] .colab-df-convert {\n",
              "      background-color: #3B4455;\n",
              "      fill: #D2E3FC;\n",
              "    }\n",
              "\n",
              "    [theme=dark] .colab-df-convert:hover {\n",
              "      background-color: #434B5C;\n",
              "      box-shadow: 0px 1px 3px 1px rgba(0, 0, 0, 0.15);\n",
              "      filter: drop-shadow(0px 1px 2px rgba(0, 0, 0, 0.3));\n",
              "      fill: #FFFFFF;\n",
              "    }\n",
              "  </style>\n",
              "\n",
              "      <script>\n",
              "        const buttonEl =\n",
              "          document.querySelector('#df-8072fef4-08b3-451a-96c3-791c85533fff button.colab-df-convert');\n",
              "        buttonEl.style.display =\n",
              "          google.colab.kernel.accessAllowed ? 'block' : 'none';\n",
              "\n",
              "        async function convertToInteractive(key) {\n",
              "          const element = document.querySelector('#df-8072fef4-08b3-451a-96c3-791c85533fff');\n",
              "          const dataTable =\n",
              "            await google.colab.kernel.invokeFunction('convertToInteractive',\n",
              "                                                     [key], {});\n",
              "          if (!dataTable) return;\n",
              "\n",
              "          const docLinkHtml = 'Like what you see? Visit the ' +\n",
              "            '<a target=\"_blank\" href=https://colab.research.google.com/notebooks/data_table.ipynb>data table notebook</a>'\n",
              "            + ' to learn more about interactive tables.';\n",
              "          element.innerHTML = '';\n",
              "          dataTable['output_type'] = 'display_data';\n",
              "          await google.colab.output.renderOutput(dataTable, element);\n",
              "          const docLink = document.createElement('div');\n",
              "          docLink.innerHTML = docLinkHtml;\n",
              "          element.appendChild(docLink);\n",
              "        }\n",
              "      </script>\n",
              "    </div>\n",
              "  </div>\n",
              "  "
            ]
          },
          "metadata": {},
          "execution_count": 30
        }
      ]
    },
    {
      "cell_type": "code",
      "source": [
        "plt.figure(figsize = (15,10))\n",
        "sns.barplot(x = 'lead_time_group', y = 'pct_canceled', hue = 'hotel_type', data = df4_pivot)\n",
        "\n",
        "plt.tick_params(axis = 'both', which = 'major', labelsize = 12)\n",
        "plt.legend(title = 'Hotel Type', title_fontsize = 14, prop = {'size' : 12}, loc=9)\n",
        "\n",
        "plt.xlabel('Lead Time Groups (by 30 days)', fontsize = 14)\n",
        "plt.ylabel('Percentage of Booking Canceled (%)', fontsize = 14)\n",
        "plt.ylim(0, 100)\n",
        "plt.xlim(-0.5, 13.5)\n",
        "\n",
        "plt.axvline(0.5, ls = '--', color = 'red')\n",
        "plt.text(x=-0.2, y=80, s='1 Month', fontsize = 18, color='red', rotation = 90)\n",
        "plt.stackplot(np.arange(-0.5, 1.5, 1), [[100]], alpha = 0.3)\n",
        "\n",
        "plt.axvline(8.5, ls = '--', color = 'red')\n",
        "plt.text(x=10, y=90, s='Around 1 Year', fontsize = 18, color='red')\n",
        "plt.stackplot(np.arange(8.5, 14.5, 1), [[100]],  alpha = 0.3)\n",
        "\n",
        "plt.text(x=-0.5, y=108, s=\"Both Hotels Have the Lowest Canceled Ratio within 1 Month of Leads Time\", \n",
        "         fontsize=20) # memberikan judul yang informatif\n",
        "plt.text(x=-0.5, y=102, s=\"Resort Hotel has quite stagnant (in around 40%) canceled ratio, while City Hotel has quite high canceled \\nratio (above 60%) with leads time around 1 year\", \n",
        "         fontsize=16) # memberikan keterangan tambahan atas judul\n",
        "\n",
        "plt.tight_layout()\n",
        "plt.savefig('Analisis pengaruh jarak.png', dpi = 200)"
      ],
      "metadata": {
        "colab": {
          "base_uri": "https://localhost:8080/",
          "height": 734
        },
        "id": "Q0ayMe2fi84E",
        "outputId": "9f821107-fd20-4989-ac83-78f7bbbd2bae"
      },
      "execution_count": 34,
      "outputs": [
        {
          "output_type": "display_data",
          "data": {
            "text/plain": [
              "<Figure size 1080x720 with 1 Axes>"
            ],
            "image/png": "[encoded data removed]"
          },
          "metadata": {
            "needs_background": "light"
          }
        }
      ]
    },
    {
      "cell_type": "code",
      "source": [
        ""
      ],
      "metadata": {
        "id": "7xLlfh5rlN4l"
      },
      "execution_count": 31,
      "outputs": []
    }
  ]
}